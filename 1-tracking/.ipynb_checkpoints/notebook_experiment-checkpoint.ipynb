{
 "cells": [
  {
   "cell_type": "markdown",
   "metadata": {
    "id": "GFv73mbbOfYn"
   },
   "source": [
    "# MLops Project\n",
    "\n",
    "\n",
    "### Experiment  and model tracking\n",
    "Part of the  mlops course - [project](https://github.com/DataTalksClub/mlops-zoomcamp/blob/main/07-project/README.md)\n",
    "\n",
    "This project aims to forecast France's energy consumption using time serie modeling. That is the notebook use for experiments. \n",
    "\n",
    "\n",
    "### Data Sources\n",
    "- **RTE (Réseau de Transport d'Électricité)**: The primary source for energy consumption data in France. To access the data, you need to create an account.\n",
    "  - [RTE Data Access](https://www.services-rte.com/en/download-data-published-by-rte.html?category=consumption&type=energy_consumption)\n",
    "\n",
    "---\n"
   ]
  },
  {
   "cell_type": "code",
   "execution_count": 12,
   "metadata": {
    "id": "dEwPHhLYq7e4",
    "scrolled": true
   },
   "outputs": [],
   "source": [
    "#Dependencies to install\n",
    "#! pip install --upgrade pip\n",
    "#! pip install  numpy requests-cache retry-requests  pandas skforecast xlrd matplotlib mlflow"
   ]
  },
  {
   "cell_type": "markdown",
   "metadata": {
    "id": "Yi3nkfrgGAhq"
   },
   "source": [
    "### DATA PREPARTION"
   ]
  },
  {
   "cell_type": "code",
   "execution_count": 13,
   "metadata": {
    "id": "mGmWwtiOfA97"
   },
   "outputs": [
    {
     "data": {
      "text/html": [
       "<div>\n",
       "<style scoped>\n",
       "    .dataframe tbody tr th:only-of-type {\n",
       "        vertical-align: middle;\n",
       "    }\n",
       "\n",
       "    .dataframe tbody tr th {\n",
       "        vertical-align: top;\n",
       "    }\n",
       "\n",
       "    .dataframe thead th {\n",
       "        text-align: right;\n",
       "    }\n",
       "</style>\n",
       "<table border=\"1\" class=\"dataframe\">\n",
       "  <thead>\n",
       "    <tr style=\"text-align: right;\">\n",
       "      <th></th>\n",
       "      <th>date</th>\n",
       "      <th>MWH</th>\n",
       "    </tr>\n",
       "  </thead>\n",
       "  <tbody>\n",
       "    <tr>\n",
       "      <th>0</th>\n",
       "      <td>2022-01-01</td>\n",
       "      <td>1209642.0</td>\n",
       "    </tr>\n",
       "    <tr>\n",
       "      <th>1</th>\n",
       "      <td>2022-01-02</td>\n",
       "      <td>1257035.0</td>\n",
       "    </tr>\n",
       "    <tr>\n",
       "      <th>2</th>\n",
       "      <td>2022-01-03</td>\n",
       "      <td>1430494.0</td>\n",
       "    </tr>\n",
       "    <tr>\n",
       "      <th>3</th>\n",
       "      <td>2022-01-04</td>\n",
       "      <td>1494954.0</td>\n",
       "    </tr>\n",
       "    <tr>\n",
       "      <th>4</th>\n",
       "      <td>2022-01-05</td>\n",
       "      <td>1643559.0</td>\n",
       "    </tr>\n",
       "    <tr>\n",
       "      <th>...</th>\n",
       "      <td>...</td>\n",
       "      <td>...</td>\n",
       "    </tr>\n",
       "    <tr>\n",
       "      <th>360</th>\n",
       "      <td>2022-12-27</td>\n",
       "      <td>1286380.0</td>\n",
       "    </tr>\n",
       "    <tr>\n",
       "      <th>361</th>\n",
       "      <td>2022-12-28</td>\n",
       "      <td>1292956.0</td>\n",
       "    </tr>\n",
       "    <tr>\n",
       "      <th>362</th>\n",
       "      <td>2022-12-29</td>\n",
       "      <td>1256168.0</td>\n",
       "    </tr>\n",
       "    <tr>\n",
       "      <th>363</th>\n",
       "      <td>2022-12-30</td>\n",
       "      <td>1255385.0</td>\n",
       "    </tr>\n",
       "    <tr>\n",
       "      <th>364</th>\n",
       "      <td>2022-12-31</td>\n",
       "      <td>1109418.0</td>\n",
       "    </tr>\n",
       "  </tbody>\n",
       "</table>\n",
       "<p>365 rows × 2 columns</p>\n",
       "</div>"
      ],
      "text/plain": [
       "          date        MWH\n",
       "0   2022-01-01  1209642.0\n",
       "1   2022-01-02  1257035.0\n",
       "2   2022-01-03  1430494.0\n",
       "3   2022-01-04  1494954.0\n",
       "4   2022-01-05  1643559.0\n",
       "..         ...        ...\n",
       "360 2022-12-27  1286380.0\n",
       "361 2022-12-28  1292956.0\n",
       "362 2022-12-29  1256168.0\n",
       "363 2022-12-30  1255385.0\n",
       "364 2022-12-31  1109418.0\n",
       "\n",
       "[365 rows x 2 columns]"
      ]
     },
     "execution_count": 13,
     "metadata": {},
     "output_type": "execute_result"
    }
   ],
   "source": [
    "import pandas  as pd\n",
    "import datetime\n",
    "now = datetime.datetime.now().strftime('%d-%m-%Y%_H:%M:%S')\n",
    "\n",
    "data_in_cloud={\"2023\": \"https://docs.google.com/spreadsheets/d/1-pHLaQH9789x7dNs4EqnY3ZDoVV-VPNX/edit?usp=sharing&ouid=114251832052082604585&rtpof=true&sd=true\",\n",
    "               '2022': 'https://docs.google.com/spreadsheets/d/1-TYSdQbF3PnlXVxkLqbEaBbXFa3nBnKs/edit?usp=sharing&ouid=114251832052082604585&rtpof=true&sd=true'\n",
    "               }\n",
    "\n",
    "\n",
    "input_data=None\n",
    "years=[2022,2023]\n",
    "\n",
    "def get_input_data( year: int):\n",
    "  daily_cons = pd.read_excel(f'https://github.com/remitoudic/mlops/raw/main/project/data%20/consumption/daily_{year}.xls', skiprows=17,  usecols=lambda x: x if not x.startswith('Unnamed') else None)\n",
    "  daily_cons.dropna(inplace=True)\n",
    "  daily_cons.reset_index(inplace=True,drop=True)\n",
    "  daily_cons.drop(['Type de données'],inplace=True, axis=1)\n",
    "  daily_cons.rename(columns={'Energie journalière (MWh)': \"MWH\"},inplace=True)\n",
    "  daily_cons.rename(columns={'Date': \"date\"},inplace=True)\n",
    "  daily_cons['date'] = pd.to_datetime(daily_cons['date'], format=\"%d/%m/%Y\", errors='coerce')\n",
    "  return daily_cons\n",
    "\n",
    "def data_preparation(years:list):\n",
    "  all_years=None\n",
    "  for year in years:\n",
    "    this_year = get_input_data(year)\n",
    "    assert this_year.shape[0]== 365, f\"Data issue => not 365 days in yer {year}\"\n",
    "    all_years=  pd.concat([all_years, this_year])\n",
    "\n",
    "  all_years.set_index('date', inplace = True)\n",
    "  all_years.sort_index(inplace = True)\n",
    "  all_years = all_years.asfreq('D', method = 'bfill')\n",
    "  return all_years\n",
    "\n",
    "\n",
    "input_data = data_preparation(years)\n",
    "assert int(input_data.shape[0]/len(years))==365\n",
    "input_data\n",
    "\n",
    "get_input_data(2022)\n"
   ]
  },
  {
   "cell_type": "code",
   "execution_count": 14,
   "metadata": {
    "id": "CjWu89jPTnUz"
   },
   "outputs": [
    {
     "name": "stdout",
     "output_type": "stream",
     "text": [
      "Train dates : 2022-01-01 00:00:00 --- 2023-12-01 00:00:00  (n=700)\n",
      "Test dates  : 2023-12-02 00:00:00 --- 2023-12-31 00:00:00  (n=30)\n"
     ]
    },
    {
     "data": {
      "text/plain": [
       "<matplotlib.legend.Legend at 0xffff2c61c370>"
      ]
     },
     "execution_count": 14,
     "metadata": {},
     "output_type": "execute_result"
    },
    {
     "data": {
      "image/png": "[encoded data removed]",
      "text/plain": [
       "<Figure size 1000x350 with 1 Axes>"
      ]
     },
     "metadata": {},
     "output_type": "display_data"
    }
   ],
   "source": [
    "import matplotlib.pyplot as plt\n",
    "# Split train-test\n",
    "# ==============================================================================\n",
    "steps = 30\n",
    "data_train = input_data[:-steps]\n",
    "data_test  = input_data[-steps:]\n",
    "\n",
    "print(\n",
    "    f\"Train dates : {data_train.index.min()} --- \"\n",
    "    f\"{data_train.index.max()}  (n={len(data_train)})\"\n",
    ")\n",
    "print(\n",
    "    f\"Test dates  : {data_test.index.min()} --- \"\n",
    "    f\"{data_test.index.max()}  (n={len(data_test)})\"\n",
    ")\n",
    "\n",
    "fig, ax = plt.subplots(figsize=(10, 3.5))\n",
    "data_train['MWH'].plot(ax=ax, label='train')\n",
    "data_test['MWH'].plot(ax=ax, label='test')\n",
    "ax.legend()\n",
    "\n"
   ]
  },
  {
   "cell_type": "code",
   "execution_count": 15,
   "metadata": {},
   "outputs": [
    {
     "data": {
      "text/plain": [
       "<ActiveRun: >"
      ]
     },
     "execution_count": 15,
     "metadata": {},
     "output_type": "execute_result"
    }
   ],
   "source": [
    "import mlflow\n",
    "\n",
    "mlflow.set_tracking_uri(\"sqlite:///mlflow.db\")\n",
    "mlflow.set_experiment(\"MLOP_project\")\n",
    "mlflow.start_run()"
   ]
  },
  {
   "cell_type": "markdown",
   "metadata": {
    "id": "IpLEYNivGKDD"
   },
   "source": [
    "### MODELING 1:    RandomForestRegressor"
   ]
  },
  {
   "cell_type": "code",
   "execution_count": 16,
   "metadata": {
    "colab": {
     "base_uri": "https://localhost:8080/"
    },
    "id": "mFpkPlZJwR-k",
    "outputId": "f23dda21-48ef-49c8-92ad-9975284e3e0f"
   },
   "outputs": [
    {
     "name": "stderr",
     "output_type": "stream",
     "text": [
      "2024/07/30 07:29:53 INFO mlflow.tracking.fluent: Autologging successfully enabled for sklearn.\n",
      "2024/07/30 07:29:57 WARNING mlflow.utils.autologging_utils: MLflow autologging encountered a warning: \"/usr/local/lib/python3.10/site-packages/_distutils_hack/__init__.py:33: UserWarning: Setuptools is replacing distutils.\"\n"
     ]
    },
    {
     "name": "stdout",
     "output_type": "stream",
     "text": [
      "Test error (MSE): 14635944409.447857\n"
     ]
    }
   ],
   "source": [
    "from skforecast.ForecasterAutoreg import ForecasterAutoreg\n",
    "from sklearn.ensemble import RandomForestRegressor\n",
    "from sklearn.metrics import mean_squared_error\n",
    "import  joblib\n",
    "with mlflow.active_run():\n",
    "    mlflow.set_tag(\"developer\", \"Remi\")\n",
    "    lags_= 2\n",
    "    mlflow.log_param('lags',lags_ )\n",
    "    mlflow.autolog()\n",
    "    # Create and train forecaster\n",
    "    # ==============================================================================\n",
    "    forecaster = ForecasterAutoreg(\n",
    "                    regressor = RandomForestRegressor(random_state=10),\n",
    "                    lags      = lags_\n",
    "                 )\n",
    "    forecaster.fit(y=data_train['MWH'])\n",
    "   \n",
    "    # Predictions\n",
    "    # ==============================================================================\n",
    "    steps = 30\n",
    "    predictions = forecaster.predict(steps=steps)\n",
    "    predictions.head(7)\n",
    "\n",
    "    # Test error\n",
    "    # ==============================================================================\n",
    "    error_mse = mean_squared_error(\n",
    "                    y_true = data_test['MWH'],\n",
    "                    y_pred = predictions\n",
    "                )\n",
    "    print(f\"Test error (MSE): {error_mse}\")\n",
    "    mlflow.log_metric(\"error_mse\", error_mse)\n",
    "    #joblib.dump(forecaster, f'models/RandomForestRegressor_model_{now}.pkl')\n",
    "    # Log the sklearn model and register as version 1\n",
    "    #mlflow.sklearn.log_model(sk_model=forecaster,artifact_path=\"sklearn-model\", registered_model_name=f\"RandomForestRegressor_model\")"
   ]
  },
  {
   "cell_type": "code",
   "execution_count": 18,
   "metadata": {
    "colab": {
     "base_uri": "https://localhost:8080/",
     "height": 156,
     "referenced_widgets": [
      "7622b00d3b2a41f584ab186ced178878",
      "3a8f526fd4814a92bb90ec73aecefe85",
      "5433a2f44a8646afa8ebf643d1ba83e2",
      "082f17d77caf46efb68085b637959634",
      "aaafe02921db4f65b2ab1e7f5f0fe976",
      "b2bed72185604439af3eeddd5a362ae5",
      "0e4fab04a3234053a54920770667f661",
      "530268512f614006bb7eb3402b09d933",
      "44e1d76028a04a5fa4623a3ec2d81f13",
      "b1d69feba78f451a952efc37c3e4ae6d",
      "5f51184f252145f09bed5623cb46d288",
      "9504d9dde2354321bd1694533879e8e9",
      "db7257188ec84e86bb6781c2942477b1",
      "0195c58eaada41b49f1d1667faae9abe",
      "e3566ddf240843768685c25a261af07a",
      "57790a2ed638475c9ea3e5e689e0fab4",
      "e38febcce27445cb853e358bc8cda4e3",
      "65ab6c2e53a645ebbb59f94cc63218e5",
      "104b0053e09b43ea88b1a15d44d1c3c4",
      "976f16323f784a93a693a1e674cb0f69",
      "879f6c8d69d54c968bace0955b6fc853",
      "aac536ba81de41cd86b2fd21a730e439"
     ]
    },
    "id": "8QCQRdkr2B4u",
    "outputId": "c0ae1cfc-bd5d-4526-9aed-9eb210650851"
   },
   "outputs": [
    {
     "name": "stdout",
     "output_type": "stream",
     "text": [
      "Number of models compared: 12.\n"
     ]
    },
    {
     "data": {
      "application/vnd.jupyter.widget-view+json": {
       "model_id": "142a9ff780454cdeb4bfc568cb609733",
       "version_major": 2,
       "version_minor": 0
      },
      "text/plain": [
       "lags grid:   0%|          | 0/2 [00:00<?, ?it/s]"
      ]
     },
     "metadata": {},
     "output_type": "display_data"
    },
    {
     "data": {
      "application/vnd.jupyter.widget-view+json": {
       "model_id": "",
       "version_major": 2,
       "version_minor": 0
      },
      "text/plain": [
       "params grid:   0%|          | 0/6 [00:00<?, ?it/s]"
      ]
     },
     "metadata": {},
     "output_type": "display_data"
    },
    {
     "name": "stderr",
     "output_type": "stream",
     "text": [
      "2024/07/30 07:30:38 INFO mlflow.utils.autologging_utils: Created MLflow autologging run with ID '8b8e2d66f34e4ea3a8dae4769718ac4b', which will track hyperparameters, performance metrics, model artifacts, and lineage information for the current sklearn workflow\n",
      "2024/07/30 07:30:44 INFO mlflow.utils.autologging_utils: Created MLflow autologging run with ID 'fb42b1f3b2714e10a1837c0444e17cf9', which will track hyperparameters, performance metrics, model artifacts, and lineage information for the current sklearn workflow\n",
      "2024/07/30 07:30:55 INFO mlflow.utils.autologging_utils: Created MLflow autologging run with ID 'ed7a219231714cf39d619582ed28e2fd', which will track hyperparameters, performance metrics, model artifacts, and lineage information for the current sklearn workflow\n",
      "2024/07/30 07:31:02 INFO mlflow.utils.autologging_utils: Created MLflow autologging run with ID 'ba155ccb59bd44c2a240650a8eeace90', which will track hyperparameters, performance metrics, model artifacts, and lineage information for the current sklearn workflow\n",
      "2024/07/30 07:31:14 INFO mlflow.utils.autologging_utils: Created MLflow autologging run with ID 'b0aac738eefd4a45a3d2b32404e62633', which will track hyperparameters, performance metrics, model artifacts, and lineage information for the current sklearn workflow\n",
      "2024/07/30 07:31:21 INFO mlflow.utils.autologging_utils: Created MLflow autologging run with ID 'b7698641cf884f44b27f6ff7acdc7fa3', which will track hyperparameters, performance metrics, model artifacts, and lineage information for the current sklearn workflow\n",
      "2024/07/30 07:31:33 INFO mlflow.utils.autologging_utils: Created MLflow autologging run with ID '50d89f8522ee4d0db44ba02b6c8603db', which will track hyperparameters, performance metrics, model artifacts, and lineage information for the current sklearn workflow\n",
      "2024/07/30 07:31:40 INFO mlflow.utils.autologging_utils: Created MLflow autologging run with ID 'e9e158f091f94dfcb9c1d908f0e81f89', which will track hyperparameters, performance metrics, model artifacts, and lineage information for the current sklearn workflow\n",
      "2024/07/30 07:31:52 INFO mlflow.utils.autologging_utils: Created MLflow autologging run with ID '844966232aa242db9afe3905c36f813f', which will track hyperparameters, performance metrics, model artifacts, and lineage information for the current sklearn workflow\n",
      "2024/07/30 07:31:59 INFO mlflow.utils.autologging_utils: Created MLflow autologging run with ID '7fdb0352092347b0bd6264b6ff17179e', which will track hyperparameters, performance metrics, model artifacts, and lineage information for the current sklearn workflow\n",
      "2024/07/30 07:32:11 INFO mlflow.utils.autologging_utils: Created MLflow autologging run with ID 'c9664d2d0cb94b4294609c6867e79d3f', which will track hyperparameters, performance metrics, model artifacts, and lineage information for the current sklearn workflow\n",
      "2024/07/30 07:32:19 INFO mlflow.utils.autologging_utils: Created MLflow autologging run with ID '3e23f02541a84623b9c5ec9355452cb0', which will track hyperparameters, performance metrics, model artifacts, and lineage information for the current sklearn workflow\n",
      "2024/07/30 07:32:31 INFO mlflow.utils.autologging_utils: Created MLflow autologging run with ID '1c4b0602644a4851b3dbd31cfc4ffece', which will track hyperparameters, performance metrics, model artifacts, and lineage information for the current sklearn workflow\n"
     ]
    },
    {
     "name": "stdout",
     "output_type": "stream",
     "text": [
      "`Forecaster` refitted using the best-found lags and parameters, and the whole data set: \n",
      "  Lags: [ 1  2  3  4  5  6  7  8  9 10 11 12 13 14 15 16 17 18 19 20] \n",
      "  Parameters: {'max_depth': 10, 'n_estimators': 250}\n",
      "  Backtesting metric: 34249043628.75192\n",
      "\n"
     ]
    }
   ],
   "source": [
    "from skforecast.model_selection import grid_search_forecaster\n",
    "\n",
    "# Hyperparameters: grid search\n",
    "# ==============================================================================\n",
    "steps = 30\n",
    "forecaster = ForecasterAutoreg(\n",
    "                 regressor = RandomForestRegressor(random_state=123),\n",
    "                 lags      = 12 # This value will be replaced in the grid search\n",
    "             )\n",
    "\n",
    "# Candidate values for lags\n",
    "lags_grid = [10, 20]\n",
    "\n",
    "# Candidate values for regressor's hyperparameters\n",
    "param_grid = {\n",
    "    'n_estimators': [100, 250],\n",
    "    'max_depth': [3, 5, 10]\n",
    "}\n",
    "\n",
    "results_grid = grid_search_forecaster(\n",
    "                   forecaster         = forecaster,\n",
    "                   y                  = data_train['MWH'],\n",
    "                   param_grid         = param_grid,\n",
    "                   lags_grid          = lags_grid,\n",
    "                   steps              = steps,\n",
    "                   refit              = False,\n",
    "                   metric             = 'mean_squared_error',\n",
    "                   initial_train_size = int(len(data_train)*0.5),\n",
    "                   fixed_train_size   = False,\n",
    "                   return_best        = True,\n",
    "                   n_jobs             = 'auto',\n",
    "                   verbose            = False\n",
    "               )"
   ]
  },
  {
   "cell_type": "code",
   "execution_count": 21,
   "metadata": {
    "colab": {
     "base_uri": "https://localhost:8080/"
    },
    "id": "LKQhUFWZ3mT5",
    "outputId": "c1d875ec-f17c-4026-b5bc-aaa6a5bb5783"
   },
   "outputs": [
    {
     "data": {
      "text/plain": [
       "lags                         [1, 2, 3, 4, 5, 6, 7, 8, 9, 10]\n",
       "lags_label                   [1, 2, 3, 4, 5, 6, 7, 8, 9, 10]\n",
       "params                {'max_depth': 10, 'n_estimators': 100}\n",
       "mean_squared_error                        42000003601.309837\n",
       "max_depth                                                 10\n",
       "n_estimators                                             100\n",
       "Name: 4, dtype: object"
      ]
     },
     "execution_count": 21,
     "metadata": {},
     "output_type": "execute_result"
    }
   ],
   "source": [
    "results_grid\n",
    "#best params\n",
    "results_grid.iloc[11]"
   ]
  },
  {
   "cell_type": "code",
   "execution_count": 9,
   "metadata": {
    "colab": {
     "base_uri": "https://localhost:8080/",
     "height": 417
    },
    "id": "CYlHk-DR4EPP",
    "outputId": "6ee85d58-48da-4d8b-d7c1-73ff6406a042"
   },
   "outputs": [
    {
     "name": "stderr",
     "output_type": "stream",
     "text": [
      "Successfully registered model 'RandomForestRegressor_model'.\n",
      "Created version '1' of model 'RandomForestRegressor_model'.\n"
     ]
    }
   ],
   "source": [
    "with mlflow.start_run():\n",
    "    mlflow.set_tag(\"developer\", \"Remi\")\n",
    "    # Create and train forecaster with the best hyperparameters \n",
    "    # ==============================================================================\n",
    "    regressor = RandomForestRegressor(n_estimators=100, max_depth=10, random_state=123)\n",
    "    forecaster = ForecasterAutoreg(\n",
    "                     regressor = regressor,\n",
    "                     lags      = 10\n",
    "                 )\n",
    "    forecaster.fit(y=data_train['MWH'])\n",
    "    # Predictions best model\n",
    "    # ==============================================================================\n",
    "    predictions = forecaster.predict(steps=steps)\n",
    "    \n",
    "    mlflow.log_metric(\"error_mse\", error_mse)\n",
    "    joblib.dump(forecaster, f'models/RandomForestRegressor_model_{now}.pkl')\n",
    "    \n",
    "    # Log the sklearn model and register the best model\n",
    "    mlflow.sklearn.log_model(sk_model=forecaster,artifact_path=\"sklearn-model\",registered_model_name=f\"RandomForestRegressor_model\")\n",
    "    "
   ]
  },
  {
   "cell_type": "code",
   "execution_count": 22,
   "metadata": {},
   "outputs": [
    {
     "data": {
      "text/plain": [
       "<matplotlib.legend.Legend at 0xffff2814b670>"
      ]
     },
     "execution_count": 22,
     "metadata": {},
     "output_type": "execute_result"
    },
    {
     "data": {
      "image/png": "[encoded data removed]",
      "text/plain": [
       "<Figure size 1500x500 with 1 Axes>"
      ]
     },
     "metadata": {},
     "output_type": "display_data"
    }
   ],
   "source": [
    "# Plot predictions versus test data\n",
    "# ==============================================================================\n",
    "fig, ax = plt.subplots(figsize=(15, 5))\n",
    "data_train['MWH'].plot(ax=ax, label='train')\n",
    "data_test['MWH'].plot(ax=ax, label='test')\n",
    "predictions.plot(ax=ax, label='predictions')\n",
    "ax.legend()"
   ]
  },
  {
   "cell_type": "markdown",
   "metadata": {
    "id": "213Y0pYcI3Cj"
   },
   "source": [
    "### MODELING 2:   GradientBoostingRegressor"
   ]
  },
  {
   "cell_type": "code",
   "execution_count": 23,
   "metadata": {
    "colab": {
     "base_uri": "https://localhost:8080/"
    },
    "id": "3x8Jmmx3I1WH",
    "outputId": "6bac32f4-24d1-41d3-bd23-5581ac8610f5"
   },
   "outputs": [
    {
     "name": "stderr",
     "output_type": "stream",
     "text": [
      "2024/07/30 07:34:44 INFO mlflow.utils.autologging_utils: Created MLflow autologging run with ID 'c9b5afcffc544bbeaafb1df50c25a65d', which will track hyperparameters, performance metrics, model artifacts, and lineage information for the current sklearn workflow\n"
     ]
    },
    {
     "data": {
      "text/plain": [
       "['models/forecaster_model.pkl']"
      ]
     },
     "execution_count": 23,
     "metadata": {},
     "output_type": "execute_result"
    }
   ],
   "source": [
    "from skforecast.ForecasterAutoreg import ForecasterAutoreg\n",
    "from sklearn.ensemble import  GradientBoostingRegressor\n",
    "import  joblib\n",
    "# Create and train forecaster\n",
    "# ==============================================================================\n",
    "forecaster = ForecasterAutoreg(\n",
    "                regressor = GradientBoostingRegressor(random_state=10),\n",
    "                lags      = 6\n",
    "             )\n",
    "forecaster.fit(y=data_train['MWH'])\n",
    "joblib.dump(forecaster, 'models/forecaster_model.pkl')"
   ]
  },
  {
   "cell_type": "code",
   "execution_count": 24,
   "metadata": {
    "colab": {
     "base_uri": "https://localhost:8080/",
     "height": 156,
     "referenced_widgets": [
      "642717850fe948cdb9317e089ad0c4de",
      "f38cb1bde9494d89b8c4d6fb29d09994",
      "b16dc80cb9c94006b48a515693a189c9",
      "a4bd842b58524daeb10f5d860f0b78fd",
      "213f4d2f3bd74728a0eb4d8a49685d16",
      "fdffa6631c3441289b036de555601bb6",
      "2d22817a9b764d85877341ef3ce7f3be",
      "860b4296fcad46ce9e75daad48f8ef3e",
      "8c26b6e354c0430aabf09740a1ea0804",
      "edd66bedda234207b22f2a2fb1b9c355",
      "1f699b2ff79e4eca8c56a0c435c72281",
      "f67d079d3e1a4511b3ee54c3b3b23e00",
      "30778273e570438492828446b525487c",
      "b855640802a3471d956ac7a1e65fd41b",
      "92ffce00a3534ed58e56ccaa6bfe65bb",
      "a800b872e81c4b86959b5068a7c3c749",
      "4c3eba12d8774e4c849b9f99cfe55fb5",
      "1c97e98d2cb74bcb80c559f99eac9487",
      "3671b06cdffb4940a2607ff910288443",
      "0919a9450322412fb02d95d203aec004",
      "da9a6417338d4a33ba62e154efe0fe1b",
      "7beb8251b0b644f1a941606e8e7b97f4"
     ]
    },
    "id": "_nU7-lZNJfta",
    "outputId": "8ce7440b-3f0c-4970-f8e1-a411b9344f17",
    "scrolled": true
   },
   "outputs": [
    {
     "name": "stderr",
     "output_type": "stream",
     "text": [
      "2024/07/30 07:34:49 INFO mlflow.tracking.fluent: Autologging successfully enabled for sklearn.\n"
     ]
    },
    {
     "name": "stdout",
     "output_type": "stream",
     "text": [
      "Number of models compared: 48.\n"
     ]
    },
    {
     "data": {
      "application/vnd.jupyter.widget-view+json": {
       "model_id": "8fcce8f3cd764b4287e3b0a26095420b",
       "version_major": 2,
       "version_minor": 0
      },
      "text/plain": [
       "lags grid:   0%|          | 0/2 [00:00<?, ?it/s]"
      ]
     },
     "metadata": {},
     "output_type": "display_data"
    },
    {
     "data": {
      "application/vnd.jupyter.widget-view+json": {
       "model_id": "",
       "version_major": 2,
       "version_minor": 0
      },
      "text/plain": [
       "params grid:   0%|          | 0/24 [00:00<?, ?it/s]"
      ]
     },
     "metadata": {},
     "output_type": "display_data"
    },
    {
     "name": "stderr",
     "output_type": "stream",
     "text": [
      "2024/07/30 07:34:54 WARNING mlflow.utils.autologging_utils: Encountered unexpected error during sklearn autologging: The following failures occurred while performing one or more logging operations: [MlflowException('Failed to perform one or more operations on the run with ID e70293998f0340b8ade3bde8ba8a269c. Failed operations: [MlflowException(\"Changing param values is not allowed. Params were already logged=\\'[{\\'key\\': \\'subsample\\', \\'old_value\\': \\'0.8\\', \\'new_value\\': \\'1.0\\'}]\\' for run ID=\\'e70293998f0340b8ade3bde8ba8a269c\\'.\")]')]\n",
      "2024/07/30 07:34:55 WARNING mlflow.utils.autologging_utils: Encountered unexpected error during sklearn autologging: The following failures occurred while performing one or more logging operations: [MlflowException('Failed to perform one or more operations on the run with ID e70293998f0340b8ade3bde8ba8a269c. Failed operations: [MlflowException(\"Changing param values is not allowed. Params were already logged=\\'[{\\'key\\': \\'n_estimators\\', \\'old_value\\': \\'100\\', \\'new_value\\': \\'250\\'}]\\' for run ID=\\'e70293998f0340b8ade3bde8ba8a269c\\'.\")]')]\n",
      "2024/07/30 07:34:56 WARNING mlflow.utils.validation: Tag value '[{\"run_id\": \"e70293998f0340b8ade3bde8ba8a269c\", \"artifact_path\": \"model\", \"utc_time_created\": \"2024-...' (5456 characters) is truncated to 5000 characters to meet the length limit.\n",
      "2024/07/30 07:34:56 WARNING mlflow.utils.autologging_utils: Encountered unexpected error during sklearn autologging: The following failures occurred while performing one or more logging operations: [MlflowException('Failed to perform one or more operations on the run with ID e70293998f0340b8ade3bde8ba8a269c. Failed operations: [MlflowException(\"Changing param values is not allowed. Params were already logged=\\'[{\\'key\\': \\'n_estimators\\', \\'old_value\\': \\'100\\', \\'new_value\\': \\'250\\'}, {\\'key\\': \\'subsample\\', \\'old_value\\': \\'0.8\\', \\'new_value\\': \\'1.0\\'}]\\' for run ID=\\'e70293998f0340b8ade3bde8ba8a269c\\'.\")]')]\n",
      "2024/07/30 07:34:58 WARNING mlflow.utils.validation: Tag value '[{\"run_id\": \"e70293998f0340b8ade3bde8ba8a269c\", \"artifact_path\": \"model\", \"utc_time_created\": \"2024-...' (6820 characters) is truncated to 5000 characters to meet the length limit.\n",
      "2024/07/30 07:34:58 WARNING mlflow.utils.autologging_utils: Encountered unexpected error during sklearn autologging: The following failures occurred while performing one or more logging operations: [MlflowException('Failed to perform one or more operations on the run with ID e70293998f0340b8ade3bde8ba8a269c. Failed operations: [MlflowException(\"Changing param values is not allowed. Params were already logged=\\'[{\\'key\\': \\'max_depth\\', \\'old_value\\': \\'3\\', \\'new_value\\': \\'5\\'}]\\' for run ID=\\'e70293998f0340b8ade3bde8ba8a269c\\'.\")]')]\n",
      "2024/07/30 07:34:59 WARNING mlflow.utils.validation: Tag value '[{\"run_id\": \"e70293998f0340b8ade3bde8ba8a269c\", \"artifact_path\": \"model\", \"utc_time_created\": \"2024-...' (8184 characters) is truncated to 5000 characters to meet the length limit.\n",
      "2024/07/30 07:34:59 WARNING mlflow.utils.autologging_utils: Encountered unexpected error during sklearn autologging: The following failures occurred while performing one or more logging operations: [MlflowException('Failed to perform one or more operations on the run with ID e70293998f0340b8ade3bde8ba8a269c. Failed operations: [MlflowException(\"Changing param values is not allowed. Params were already logged=\\'[{\\'key\\': \\'max_depth\\', \\'old_value\\': \\'3\\', \\'new_value\\': \\'5\\'}, {\\'key\\': \\'subsample\\', \\'old_value\\': \\'0.8\\', \\'new_value\\': \\'1.0\\'}]\\' for run ID=\\'e70293998f0340b8ade3bde8ba8a269c\\'.\")]')]\n",
      "2024/07/30 07:35:00 WARNING mlflow.utils.validation: Tag value '[{\"run_id\": \"e70293998f0340b8ade3bde8ba8a269c\", \"artifact_path\": \"model\", \"utc_time_created\": \"2024-...' (9549 characters) is truncated to 5000 characters to meet the length limit.\n",
      "2024/07/30 07:35:00 WARNING mlflow.utils.autologging_utils: Encountered unexpected error during sklearn autologging: The following failures occurred while performing one or more logging operations: [MlflowException('Failed to perform one or more operations on the run with ID e70293998f0340b8ade3bde8ba8a269c. Failed operations: [MlflowException(\"Changing param values is not allowed. Params were already logged=\\'[{\\'key\\': \\'max_depth\\', \\'old_value\\': \\'3\\', \\'new_value\\': \\'5\\'}, {\\'key\\': \\'n_estimators\\', \\'old_value\\': \\'100\\', \\'new_value\\': \\'250\\'}]\\' for run ID=\\'e70293998f0340b8ade3bde8ba8a269c\\'.\")]')]\n",
      "2024/07/30 07:35:01 WARNING mlflow.utils.validation: Tag value '[{\"run_id\": \"e70293998f0340b8ade3bde8ba8a269c\", \"artifact_path\": \"model\", \"utc_time_created\": \"2024-...' (10914 characters) is truncated to 5000 characters to meet the length limit.\n",
      "2024/07/30 07:35:01 WARNING mlflow.utils.autologging_utils: Encountered unexpected error during sklearn autologging: The following failures occurred while performing one or more logging operations: [MlflowException('Failed to perform one or more operations on the run with ID e70293998f0340b8ade3bde8ba8a269c. Failed operations: [MlflowException(\"Changing param values is not allowed. Params were already logged=\\'[{\\'key\\': \\'max_depth\\', \\'old_value\\': \\'3\\', \\'new_value\\': \\'5\\'}, {\\'key\\': \\'n_estimators\\', \\'old_value\\': \\'100\\', \\'new_value\\': \\'250\\'}, {\\'key\\': \\'subsample\\', \\'old_value\\': \\'0.8\\', \\'new_value\\': \\'1.0\\'}]\\' for run ID=\\'e70293998f0340b8ade3bde8ba8a269c\\'.\")]')]\n",
      "2024/07/30 07:35:03 WARNING mlflow.utils.validation: Tag value '[{\"run_id\": \"e70293998f0340b8ade3bde8ba8a269c\", \"artifact_path\": \"model\", \"utc_time_created\": \"2024-...' (12279 characters) is truncated to 5000 characters to meet the length limit.\n",
      "2024/07/30 07:35:03 WARNING mlflow.utils.autologging_utils: Encountered unexpected error during sklearn autologging: The following failures occurred while performing one or more logging operations: [MlflowException('Failed to perform one or more operations on the run with ID e70293998f0340b8ade3bde8ba8a269c. Failed operations: [MlflowException(\"Changing param values is not allowed. Params were already logged=\\'[{\\'key\\': \\'max_depth\\', \\'old_value\\': \\'3\\', \\'new_value\\': \\'10\\'}]\\' for run ID=\\'e70293998f0340b8ade3bde8ba8a269c\\'.\")]')]\n",
      "2024/07/30 07:35:04 WARNING mlflow.utils.validation: Tag value '[{\"run_id\": \"e70293998f0340b8ade3bde8ba8a269c\", \"artifact_path\": \"model\", \"utc_time_created\": \"2024-...' (13644 characters) is truncated to 5000 characters to meet the length limit.\n",
      "2024/07/30 07:35:04 WARNING mlflow.utils.autologging_utils: Encountered unexpected error during sklearn autologging: The following failures occurred while performing one or more logging operations: [MlflowException('Failed to perform one or more operations on the run with ID e70293998f0340b8ade3bde8ba8a269c. Failed operations: [MlflowException(\"Changing param values is not allowed. Params were already logged=\\'[{\\'key\\': \\'max_depth\\', \\'old_value\\': \\'3\\', \\'new_value\\': \\'10\\'}, {\\'key\\': \\'subsample\\', \\'old_value\\': \\'0.8\\', \\'new_value\\': \\'1.0\\'}]\\' for run ID=\\'e70293998f0340b8ade3bde8ba8a269c\\'.\")]')]\n",
      "2024/07/30 07:35:06 WARNING mlflow.utils.validation: Tag value '[{\"run_id\": \"e70293998f0340b8ade3bde8ba8a269c\", \"artifact_path\": \"model\", \"utc_time_created\": \"2024-...' (15009 characters) is truncated to 5000 characters to meet the length limit.\n",
      "2024/07/30 07:35:06 WARNING mlflow.utils.autologging_utils: Encountered unexpected error during sklearn autologging: The following failures occurred while performing one or more logging operations: [MlflowException('Failed to perform one or more operations on the run with ID e70293998f0340b8ade3bde8ba8a269c. Failed operations: [MlflowException(\"Changing param values is not allowed. Params were already logged=\\'[{\\'key\\': \\'max_depth\\', \\'old_value\\': \\'3\\', \\'new_value\\': \\'10\\'}, {\\'key\\': \\'n_estimators\\', \\'old_value\\': \\'100\\', \\'new_value\\': \\'250\\'}]\\' for run ID=\\'e70293998f0340b8ade3bde8ba8a269c\\'.\")]')]\n",
      "2024/07/30 07:35:08 WARNING mlflow.utils.validation: Tag value '[{\"run_id\": \"e70293998f0340b8ade3bde8ba8a269c\", \"artifact_path\": \"model\", \"utc_time_created\": \"2024-...' (16374 characters) is truncated to 5000 characters to meet the length limit.\n",
      "2024/07/30 07:35:08 WARNING mlflow.utils.autologging_utils: Encountered unexpected error during sklearn autologging: The following failures occurred while performing one or more logging operations: [MlflowException('Failed to perform one or more operations on the run with ID e70293998f0340b8ade3bde8ba8a269c. Failed operations: [MlflowException(\"Changing param values is not allowed. Params were already logged=\\'[{\\'key\\': \\'max_depth\\', \\'old_value\\': \\'3\\', \\'new_value\\': \\'10\\'}, {\\'key\\': \\'n_estimators\\', \\'old_value\\': \\'100\\', \\'new_value\\': \\'250\\'}, {\\'key\\': \\'subsample\\', \\'old_value\\': \\'0.8\\', \\'new_value\\': \\'1.0\\'}]\\' for run ID=\\'e70293998f0340b8ade3bde8ba8a269c\\'.\")]')]\n",
      "2024/07/30 07:35:09 WARNING mlflow.utils.validation: Tag value '[{\"run_id\": \"e70293998f0340b8ade3bde8ba8a269c\", \"artifact_path\": \"model\", \"utc_time_created\": \"2024-...' (17738 characters) is truncated to 5000 characters to meet the length limit.\n",
      "2024/07/30 07:35:10 WARNING mlflow.utils.autologging_utils: Encountered unexpected error during sklearn autologging: The following failures occurred while performing one or more logging operations: [MlflowException('Failed to perform one or more operations on the run with ID e70293998f0340b8ade3bde8ba8a269c. Failed operations: [MlflowException(\"Changing param values is not allowed. Params were already logged=\\'[{\\'key\\': \\'learning_rate\\', \\'old_value\\': \\'0.01\\', \\'new_value\\': \\'0.1\\'}]\\' for run ID=\\'e70293998f0340b8ade3bde8ba8a269c\\'.\")]')]\n",
      "2024/07/30 07:35:11 WARNING mlflow.utils.validation: Tag value '[{\"run_id\": \"e70293998f0340b8ade3bde8ba8a269c\", \"artifact_path\": \"model\", \"utc_time_created\": \"2024-...' (19102 characters) is truncated to 5000 characters to meet the length limit.\n",
      "2024/07/30 07:35:11 WARNING mlflow.utils.autologging_utils: Encountered unexpected error during sklearn autologging: The following failures occurred while performing one or more logging operations: [MlflowException('Failed to perform one or more operations on the run with ID e70293998f0340b8ade3bde8ba8a269c. Failed operations: [MlflowException(\"Changing param values is not allowed. Params were already logged=\\'[{\\'key\\': \\'learning_rate\\', \\'old_value\\': \\'0.01\\', \\'new_value\\': \\'0.1\\'}, {\\'key\\': \\'subsample\\', \\'old_value\\': \\'0.8\\', \\'new_value\\': \\'1.0\\'}]\\' for run ID=\\'e70293998f0340b8ade3bde8ba8a269c\\'.\")]')]\n",
      "2024/07/30 07:35:12 WARNING mlflow.utils.validation: Tag value '[{\"run_id\": \"e70293998f0340b8ade3bde8ba8a269c\", \"artifact_path\": \"model\", \"utc_time_created\": \"2024-...' (20466 characters) is truncated to 5000 characters to meet the length limit.\n",
      "2024/07/30 07:35:12 WARNING mlflow.utils.autologging_utils: Encountered unexpected error during sklearn autologging: The following failures occurred while performing one or more logging operations: [MlflowException('Failed to perform one or more operations on the run with ID e70293998f0340b8ade3bde8ba8a269c. Failed operations: [MlflowException(\"Changing param values is not allowed. Params were already logged=\\'[{\\'key\\': \\'learning_rate\\', \\'old_value\\': \\'0.01\\', \\'new_value\\': \\'0.1\\'}, {\\'key\\': \\'n_estimators\\', \\'old_value\\': \\'100\\', \\'new_value\\': \\'250\\'}]\\' for run ID=\\'e70293998f0340b8ade3bde8ba8a269c\\'.\")]')]\n",
      "2024/07/30 07:35:13 WARNING mlflow.utils.validation: Tag value '[{\"run_id\": \"e70293998f0340b8ade3bde8ba8a269c\", \"artifact_path\": \"model\", \"utc_time_created\": \"2024-...' (21830 characters) is truncated to 5000 characters to meet the length limit.\n",
      "2024/07/30 07:35:13 WARNING mlflow.utils.autologging_utils: Encountered unexpected error during sklearn autologging: The following failures occurred while performing one or more logging operations: [MlflowException('Failed to perform one or more operations on the run with ID e70293998f0340b8ade3bde8ba8a269c. Failed operations: [MlflowException(\"Changing param values is not allowed. Params were already logged=\\'[{\\'key\\': \\'learning_rate\\', \\'old_value\\': \\'0.01\\', \\'new_value\\': \\'0.1\\'}, {\\'key\\': \\'n_estimators\\', \\'old_value\\': \\'100\\', \\'new_value\\': \\'250\\'}, {\\'key\\': \\'subsample\\', \\'old_value\\': \\'0.8\\', \\'new_value\\': \\'1.0\\'}]\\' for run ID=\\'e70293998f0340b8ade3bde8ba8a269c\\'.\")]')]\n",
      "2024/07/30 07:35:14 WARNING mlflow.utils.validation: Tag value '[{\"run_id\": \"e70293998f0340b8ade3bde8ba8a269c\", \"artifact_path\": \"model\", \"utc_time_created\": \"2024-...' (23194 characters) is truncated to 5000 characters to meet the length limit.\n",
      "2024/07/30 07:35:14 WARNING mlflow.utils.autologging_utils: Encountered unexpected error during sklearn autologging: The following failures occurred while performing one or more logging operations: [MlflowException('Failed to perform one or more operations on the run with ID e70293998f0340b8ade3bde8ba8a269c. Failed operations: [MlflowException(\"Changing param values is not allowed. Params were already logged=\\'[{\\'key\\': \\'learning_rate\\', \\'old_value\\': \\'0.01\\', \\'new_value\\': \\'0.1\\'}, {\\'key\\': \\'max_depth\\', \\'old_value\\': \\'3\\', \\'new_value\\': \\'5\\'}]\\' for run ID=\\'e70293998f0340b8ade3bde8ba8a269c\\'.\")]')]\n",
      "2024/07/30 07:35:16 WARNING mlflow.utils.validation: Tag value '[{\"run_id\": \"e70293998f0340b8ade3bde8ba8a269c\", \"artifact_path\": \"model\", \"utc_time_created\": \"2024-...' (24558 characters) is truncated to 5000 characters to meet the length limit.\n",
      "2024/07/30 07:35:16 WARNING mlflow.utils.autologging_utils: Encountered unexpected error during sklearn autologging: The following failures occurred while performing one or more logging operations: [MlflowException('Failed to perform one or more operations on the run with ID e70293998f0340b8ade3bde8ba8a269c. Failed operations: [MlflowException(\"Changing param values is not allowed. Params were already logged=\\'[{\\'key\\': \\'learning_rate\\', \\'old_value\\': \\'0.01\\', \\'new_value\\': \\'0.1\\'}, {\\'key\\': \\'max_depth\\', \\'old_value\\': \\'3\\', \\'new_value\\': \\'5\\'}, {\\'key\\': \\'subsample\\', \\'old_value\\': \\'0.8\\', \\'new_value\\': \\'1.0\\'}]\\' for run ID=\\'e70293998f0340b8ade3bde8ba8a269c\\'.\")]')]\n",
      "2024/07/30 07:35:17 WARNING mlflow.utils.validation: Tag value '[{\"run_id\": \"e70293998f0340b8ade3bde8ba8a269c\", \"artifact_path\": \"model\", \"utc_time_created\": \"2024-...' (25922 characters) is truncated to 5000 characters to meet the length limit.\n",
      "2024/07/30 07:35:17 WARNING mlflow.utils.autologging_utils: Encountered unexpected error during sklearn autologging: The following failures occurred while performing one or more logging operations: [MlflowException('Failed to perform one or more operations on the run with ID e70293998f0340b8ade3bde8ba8a269c. Failed operations: [MlflowException(\"Changing param values is not allowed. Params were already logged=\\'[{\\'key\\': \\'learning_rate\\', \\'old_value\\': \\'0.01\\', \\'new_value\\': \\'0.1\\'}, {\\'key\\': \\'max_depth\\', \\'old_value\\': \\'3\\', \\'new_value\\': \\'5\\'}, {\\'key\\': \\'n_estimators\\', \\'old_value\\': \\'100\\', \\'new_value\\': \\'250\\'}]\\' for run ID=\\'e70293998f0340b8ade3bde8ba8a269c\\'.\")]')]\n",
      "2024/07/30 07:35:18 WARNING mlflow.utils.validation: Tag value '[{\"run_id\": \"e70293998f0340b8ade3bde8ba8a269c\", \"artifact_path\": \"model\", \"utc_time_created\": \"2024-...' (27286 characters) is truncated to 5000 characters to meet the length limit.\n",
      "2024/07/30 07:35:18 WARNING mlflow.utils.autologging_utils: Encountered unexpected error during sklearn autologging: The following failures occurred while performing one or more logging operations: [MlflowException('Failed to perform one or more operations on the run with ID e70293998f0340b8ade3bde8ba8a269c. Failed operations: [MlflowException(\"Changing param values is not allowed. Params were already logged=\\'[{\\'key\\': \\'learning_rate\\', \\'old_value\\': \\'0.01\\', \\'new_value\\': \\'0.1\\'}, {\\'key\\': \\'max_depth\\', \\'old_value\\': \\'3\\', \\'new_value\\': \\'5\\'}, {\\'key\\': \\'n_estimators\\', \\'old_value\\': \\'100\\', \\'new_value\\': \\'250\\'}, {\\'key\\': \\'subsample\\', \\'old_value\\': \\'0.8\\', \\'new_value\\': \\'1.0\\'}]\\' for run ID=\\'e70293998f0340b8ade3bde8ba8a269c\\'.\")]')]\n",
      "2024/07/30 07:35:20 WARNING mlflow.utils.validation: Tag value '[{\"run_id\": \"e70293998f0340b8ade3bde8ba8a269c\", \"artifact_path\": \"model\", \"utc_time_created\": \"2024-...' (28651 characters) is truncated to 5000 characters to meet the length limit.\n",
      "2024/07/30 07:35:20 WARNING mlflow.utils.autologging_utils: Encountered unexpected error during sklearn autologging: The following failures occurred while performing one or more logging operations: [MlflowException('Failed to perform one or more operations on the run with ID e70293998f0340b8ade3bde8ba8a269c. Failed operations: [MlflowException(\"Changing param values is not allowed. Params were already logged=\\'[{\\'key\\': \\'learning_rate\\', \\'old_value\\': \\'0.01\\', \\'new_value\\': \\'0.1\\'}, {\\'key\\': \\'max_depth\\', \\'old_value\\': \\'3\\', \\'new_value\\': \\'10\\'}]\\' for run ID=\\'e70293998f0340b8ade3bde8ba8a269c\\'.\")]')]\n",
      "2024/07/30 07:35:21 WARNING mlflow.utils.validation: Tag value '[{\"run_id\": \"e70293998f0340b8ade3bde8ba8a269c\", \"artifact_path\": \"model\", \"utc_time_created\": \"2024-...' (30016 characters) is truncated to 5000 characters to meet the length limit.\n",
      "2024/07/30 07:35:21 WARNING mlflow.utils.autologging_utils: Encountered unexpected error during sklearn autologging: The following failures occurred while performing one or more logging operations: [MlflowException('Failed to perform one or more operations on the run with ID e70293998f0340b8ade3bde8ba8a269c. Failed operations: [MlflowException(\"Changing param values is not allowed. Params were already logged=\\'[{\\'key\\': \\'learning_rate\\', \\'old_value\\': \\'0.01\\', \\'new_value\\': \\'0.1\\'}, {\\'key\\': \\'max_depth\\', \\'old_value\\': \\'3\\', \\'new_value\\': \\'10\\'}, {\\'key\\': \\'subsample\\', \\'old_value\\': \\'0.8\\', \\'new_value\\': \\'1.0\\'}]\\' for run ID=\\'e70293998f0340b8ade3bde8ba8a269c\\'.\")]')]\n",
      "2024/07/30 07:35:22 WARNING mlflow.utils.validation: Tag value '[{\"run_id\": \"e70293998f0340b8ade3bde8ba8a269c\", \"artifact_path\": \"model\", \"utc_time_created\": \"2024-...' (31381 characters) is truncated to 5000 characters to meet the length limit.\n",
      "2024/07/30 07:35:22 WARNING mlflow.utils.autologging_utils: Encountered unexpected error during sklearn autologging: The following failures occurred while performing one or more logging operations: [MlflowException('Failed to perform one or more operations on the run with ID e70293998f0340b8ade3bde8ba8a269c. Failed operations: [MlflowException(\"Changing param values is not allowed. Params were already logged=\\'[{\\'key\\': \\'learning_rate\\', \\'old_value\\': \\'0.01\\', \\'new_value\\': \\'0.1\\'}, {\\'key\\': \\'max_depth\\', \\'old_value\\': \\'3\\', \\'new_value\\': \\'10\\'}, {\\'key\\': \\'n_estimators\\', \\'old_value\\': \\'100\\', \\'new_value\\': \\'250\\'}]\\' for run ID=\\'e70293998f0340b8ade3bde8ba8a269c\\'.\")]')]\n",
      "2024/07/30 07:35:24 WARNING mlflow.utils.validation: Tag value '[{\"run_id\": \"e70293998f0340b8ade3bde8ba8a269c\", \"artifact_path\": \"model\", \"utc_time_created\": \"2024-...' (32746 characters) is truncated to 5000 characters to meet the length limit.\n",
      "2024/07/30 07:35:24 WARNING mlflow.utils.autologging_utils: Encountered unexpected error during sklearn autologging: The following failures occurred while performing one or more logging operations: [MlflowException('Failed to perform one or more operations on the run with ID e70293998f0340b8ade3bde8ba8a269c. Failed operations: [MlflowException(\"Changing param values is not allowed. Params were already logged=\\'[{\\'key\\': \\'learning_rate\\', \\'old_value\\': \\'0.01\\', \\'new_value\\': \\'0.1\\'}, {\\'key\\': \\'max_depth\\', \\'old_value\\': \\'3\\', \\'new_value\\': \\'10\\'}, {\\'key\\': \\'n_estimators\\', \\'old_value\\': \\'100\\', \\'new_value\\': \\'250\\'}, {\\'key\\': \\'subsample\\', \\'old_value\\': \\'0.8\\', \\'new_value\\': \\'1.0\\'}]\\' for run ID=\\'e70293998f0340b8ade3bde8ba8a269c\\'.\")]')]\n",
      "2024/07/30 07:35:25 WARNING mlflow.utils.validation: Tag value '[{\"run_id\": \"e70293998f0340b8ade3bde8ba8a269c\", \"artifact_path\": \"model\", \"utc_time_created\": \"2024-...' (34770 characters) is truncated to 5000 characters to meet the length limit.\n",
      "2024/07/30 07:35:29 WARNING mlflow.utils.validation: Tag value '[{\"run_id\": \"e70293998f0340b8ade3bde8ba8a269c\", \"artifact_path\": \"model\", \"utc_time_created\": \"2024-...' (36794 characters) is truncated to 5000 characters to meet the length limit.\n",
      "2024/07/30 07:35:29 WARNING mlflow.utils.autologging_utils: Encountered unexpected error during sklearn autologging: The following failures occurred while performing one or more logging operations: [MlflowException('Failed to perform one or more operations on the run with ID e70293998f0340b8ade3bde8ba8a269c. Failed operations: [MlflowException(\"Changing param values is not allowed. Params were already logged=\\'[{\\'key\\': \\'subsample\\', \\'old_value\\': \\'0.8\\', \\'new_value\\': \\'1.0\\'}]\\' for run ID=\\'e70293998f0340b8ade3bde8ba8a269c\\'.\")]')]\n",
      "2024/07/30 07:35:31 WARNING mlflow.utils.validation: Tag value '[{\"run_id\": \"e70293998f0340b8ade3bde8ba8a269c\", \"artifact_path\": \"model\", \"utc_time_created\": \"2024-...' (38818 characters) is truncated to 5000 characters to meet the length limit.\n",
      "2024/07/30 07:35:31 WARNING mlflow.utils.autologging_utils: Encountered unexpected error during sklearn autologging: The following failures occurred while performing one or more logging operations: [MlflowException('Failed to perform one or more operations on the run with ID e70293998f0340b8ade3bde8ba8a269c. Failed operations: [MlflowException(\"Changing param values is not allowed. Params were already logged=\\'[{\\'key\\': \\'n_estimators\\', \\'old_value\\': \\'100\\', \\'new_value\\': \\'250\\'}]\\' for run ID=\\'e70293998f0340b8ade3bde8ba8a269c\\'.\")]')]\n",
      "2024/07/30 07:35:32 WARNING mlflow.utils.validation: Tag value '[{\"run_id\": \"e70293998f0340b8ade3bde8ba8a269c\", \"artifact_path\": \"model\", \"utc_time_created\": \"2024-...' (40842 characters) is truncated to 5000 characters to meet the length limit.\n",
      "2024/07/30 07:35:32 WARNING mlflow.utils.autologging_utils: Encountered unexpected error during sklearn autologging: The following failures occurred while performing one or more logging operations: [MlflowException('Failed to perform one or more operations on the run with ID e70293998f0340b8ade3bde8ba8a269c. Failed operations: [MlflowException(\"Changing param values is not allowed. Params were already logged=\\'[{\\'key\\': \\'n_estimators\\', \\'old_value\\': \\'100\\', \\'new_value\\': \\'250\\'}, {\\'key\\': \\'subsample\\', \\'old_value\\': \\'0.8\\', \\'new_value\\': \\'1.0\\'}]\\' for run ID=\\'e70293998f0340b8ade3bde8ba8a269c\\'.\")]')]\n",
      "2024/07/30 07:35:33 WARNING mlflow.utils.validation: Tag value '[{\"run_id\": \"e70293998f0340b8ade3bde8ba8a269c\", \"artifact_path\": \"model\", \"utc_time_created\": \"2024-...' (42866 characters) is truncated to 5000 characters to meet the length limit.\n",
      "2024/07/30 07:35:34 WARNING mlflow.utils.autologging_utils: Encountered unexpected error during sklearn autologging: The following failures occurred while performing one or more logging operations: [MlflowException('Failed to perform one or more operations on the run with ID e70293998f0340b8ade3bde8ba8a269c. Failed operations: [MlflowException(\"Changing param values is not allowed. Params were already logged=\\'[{\\'key\\': \\'max_depth\\', \\'old_value\\': \\'3\\', \\'new_value\\': \\'5\\'}]\\' for run ID=\\'e70293998f0340b8ade3bde8ba8a269c\\'.\")]')]\n",
      "2024/07/30 07:35:35 WARNING mlflow.utils.validation: Tag value '[{\"run_id\": \"e70293998f0340b8ade3bde8ba8a269c\", \"artifact_path\": \"model\", \"utc_time_created\": \"2024-...' (44890 characters) is truncated to 5000 characters to meet the length limit.\n",
      "2024/07/30 07:35:35 WARNING mlflow.utils.autologging_utils: Encountered unexpected error during sklearn autologging: The following failures occurred while performing one or more logging operations: [MlflowException('Failed to perform one or more operations on the run with ID e70293998f0340b8ade3bde8ba8a269c. Failed operations: [MlflowException(\"Changing param values is not allowed. Params were already logged=\\'[{\\'key\\': \\'max_depth\\', \\'old_value\\': \\'3\\', \\'new_value\\': \\'5\\'}, {\\'key\\': \\'subsample\\', \\'old_value\\': \\'0.8\\', \\'new_value\\': \\'1.0\\'}]\\' for run ID=\\'e70293998f0340b8ade3bde8ba8a269c\\'.\")]')]\n",
      "2024/07/30 07:35:36 WARNING mlflow.utils.validation: Tag value '[{\"run_id\": \"e70293998f0340b8ade3bde8ba8a269c\", \"artifact_path\": \"model\", \"utc_time_created\": \"2024-...' (46915 characters) is truncated to 5000 characters to meet the length limit.\n",
      "2024/07/30 07:35:37 WARNING mlflow.utils.autologging_utils: Encountered unexpected error during sklearn autologging: The following failures occurred while performing one or more logging operations: [MlflowException('Failed to perform one or more operations on the run with ID e70293998f0340b8ade3bde8ba8a269c. Failed operations: [MlflowException(\"Changing param values is not allowed. Params were already logged=\\'[{\\'key\\': \\'max_depth\\', \\'old_value\\': \\'3\\', \\'new_value\\': \\'5\\'}, {\\'key\\': \\'n_estimators\\', \\'old_value\\': \\'100\\', \\'new_value\\': \\'250\\'}]\\' for run ID=\\'e70293998f0340b8ade3bde8ba8a269c\\'.\")]')]\n",
      "2024/07/30 07:35:38 WARNING mlflow.utils.validation: Tag value '[{\"run_id\": \"e70293998f0340b8ade3bde8ba8a269c\", \"artifact_path\": \"model\", \"utc_time_created\": \"2024-...' (48940 characters) is truncated to 5000 characters to meet the length limit.\n",
      "2024/07/30 07:35:39 WARNING mlflow.utils.autologging_utils: Encountered unexpected error during sklearn autologging: The following failures occurred while performing one or more logging operations: [MlflowException('Failed to perform one or more operations on the run with ID e70293998f0340b8ade3bde8ba8a269c. Failed operations: [MlflowException(\"Changing param values is not allowed. Params were already logged=\\'[{\\'key\\': \\'max_depth\\', \\'old_value\\': \\'3\\', \\'new_value\\': \\'5\\'}, {\\'key\\': \\'n_estimators\\', \\'old_value\\': \\'100\\', \\'new_value\\': \\'250\\'}, {\\'key\\': \\'subsample\\', \\'old_value\\': \\'0.8\\', \\'new_value\\': \\'1.0\\'}]\\' for run ID=\\'e70293998f0340b8ade3bde8ba8a269c\\'.\")]')]\n",
      "2024/07/30 07:35:40 WARNING mlflow.utils.validation: Tag value '[{\"run_id\": \"e70293998f0340b8ade3bde8ba8a269c\", \"artifact_path\": \"model\", \"utc_time_created\": \"2024-...' (50965 characters) is truncated to 5000 characters to meet the length limit.\n",
      "2024/07/30 07:35:40 WARNING mlflow.utils.autologging_utils: Encountered unexpected error during sklearn autologging: The following failures occurred while performing one or more logging operations: [MlflowException('Failed to perform one or more operations on the run with ID e70293998f0340b8ade3bde8ba8a269c. Failed operations: [MlflowException(\"Changing param values is not allowed. Params were already logged=\\'[{\\'key\\': \\'max_depth\\', \\'old_value\\': \\'3\\', \\'new_value\\': \\'10\\'}]\\' for run ID=\\'e70293998f0340b8ade3bde8ba8a269c\\'.\")]')]\n",
      "2024/07/30 07:35:42 WARNING mlflow.utils.validation: Tag value '[{\"run_id\": \"e70293998f0340b8ade3bde8ba8a269c\", \"artifact_path\": \"model\", \"utc_time_created\": \"2024-...' (52990 characters) is truncated to 5000 characters to meet the length limit.\n",
      "2024/07/30 07:35:42 WARNING mlflow.utils.autologging_utils: Encountered unexpected error during sklearn autologging: The following failures occurred while performing one or more logging operations: [MlflowException('Failed to perform one or more operations on the run with ID e70293998f0340b8ade3bde8ba8a269c. Failed operations: [MlflowException(\"Changing param values is not allowed. Params were already logged=\\'[{\\'key\\': \\'max_depth\\', \\'old_value\\': \\'3\\', \\'new_value\\': \\'10\\'}, {\\'key\\': \\'subsample\\', \\'old_value\\': \\'0.8\\', \\'new_value\\': \\'1.0\\'}]\\' for run ID=\\'e70293998f0340b8ade3bde8ba8a269c\\'.\")]')]\n",
      "2024/07/30 07:35:44 WARNING mlflow.utils.validation: Tag value '[{\"run_id\": \"e70293998f0340b8ade3bde8ba8a269c\", \"artifact_path\": \"model\", \"utc_time_created\": \"2024-...' (55015 characters) is truncated to 5000 characters to meet the length limit.\n",
      "2024/07/30 07:35:44 WARNING mlflow.utils.autologging_utils: Encountered unexpected error during sklearn autologging: The following failures occurred while performing one or more logging operations: [MlflowException('Failed to perform one or more operations on the run with ID e70293998f0340b8ade3bde8ba8a269c. Failed operations: [MlflowException(\"Changing param values is not allowed. Params were already logged=\\'[{\\'key\\': \\'max_depth\\', \\'old_value\\': \\'3\\', \\'new_value\\': \\'10\\'}, {\\'key\\': \\'n_estimators\\', \\'old_value\\': \\'100\\', \\'new_value\\': \\'250\\'}]\\' for run ID=\\'e70293998f0340b8ade3bde8ba8a269c\\'.\")]')]\n",
      "2024/07/30 07:35:46 WARNING mlflow.utils.validation: Tag value '[{\"run_id\": \"e70293998f0340b8ade3bde8ba8a269c\", \"artifact_path\": \"model\", \"utc_time_created\": \"2024-...' (57040 characters) is truncated to 5000 characters to meet the length limit.\n",
      "2024/07/30 07:35:46 WARNING mlflow.utils.autologging_utils: Encountered unexpected error during sklearn autologging: The following failures occurred while performing one or more logging operations: [MlflowException('Failed to perform one or more operations on the run with ID e70293998f0340b8ade3bde8ba8a269c. Failed operations: [MlflowException(\"Changing param values is not allowed. Params were already logged=\\'[{\\'key\\': \\'max_depth\\', \\'old_value\\': \\'3\\', \\'new_value\\': \\'10\\'}, {\\'key\\': \\'n_estimators\\', \\'old_value\\': \\'100\\', \\'new_value\\': \\'250\\'}, {\\'key\\': \\'subsample\\', \\'old_value\\': \\'0.8\\', \\'new_value\\': \\'1.0\\'}]\\' for run ID=\\'e70293998f0340b8ade3bde8ba8a269c\\'.\")]')]\n",
      "2024/07/30 07:35:48 WARNING mlflow.utils.validation: Tag value '[{\"run_id\": \"e70293998f0340b8ade3bde8ba8a269c\", \"artifact_path\": \"model\", \"utc_time_created\": \"2024-...' (59064 characters) is truncated to 5000 characters to meet the length limit.\n",
      "2024/07/30 07:35:48 WARNING mlflow.utils.autologging_utils: Encountered unexpected error during sklearn autologging: The following failures occurred while performing one or more logging operations: [MlflowException('Failed to perform one or more operations on the run with ID e70293998f0340b8ade3bde8ba8a269c. Failed operations: [MlflowException(\"Changing param values is not allowed. Params were already logged=\\'[{\\'key\\': \\'learning_rate\\', \\'old_value\\': \\'0.01\\', \\'new_value\\': \\'0.1\\'}]\\' for run ID=\\'e70293998f0340b8ade3bde8ba8a269c\\'.\")]')]\n",
      "2024/07/30 07:35:49 WARNING mlflow.utils.validation: Tag value '[{\"run_id\": \"e70293998f0340b8ade3bde8ba8a269c\", \"artifact_path\": \"model\", \"utc_time_created\": \"2024-...' (61088 characters) is truncated to 5000 characters to meet the length limit.\n",
      "2024/07/30 07:35:49 WARNING mlflow.utils.autologging_utils: Encountered unexpected error during sklearn autologging: The following failures occurred while performing one or more logging operations: [MlflowException('Failed to perform one or more operations on the run with ID e70293998f0340b8ade3bde8ba8a269c. Failed operations: [MlflowException(\"Changing param values is not allowed. Params were already logged=\\'[{\\'key\\': \\'learning_rate\\', \\'old_value\\': \\'0.01\\', \\'new_value\\': \\'0.1\\'}, {\\'key\\': \\'subsample\\', \\'old_value\\': \\'0.8\\', \\'new_value\\': \\'1.0\\'}]\\' for run ID=\\'e70293998f0340b8ade3bde8ba8a269c\\'.\")]')]\n",
      "2024/07/30 07:35:50 WARNING mlflow.utils.validation: Tag value '[{\"run_id\": \"e70293998f0340b8ade3bde8ba8a269c\", \"artifact_path\": \"model\", \"utc_time_created\": \"2024-...' (63112 characters) is truncated to 5000 characters to meet the length limit.\n",
      "2024/07/30 07:35:50 WARNING mlflow.utils.autologging_utils: Encountered unexpected error during sklearn autologging: The following failures occurred while performing one or more logging operations: [MlflowException('Failed to perform one or more operations on the run with ID e70293998f0340b8ade3bde8ba8a269c. Failed operations: [MlflowException(\"Changing param values is not allowed. Params were already logged=\\'[{\\'key\\': \\'learning_rate\\', \\'old_value\\': \\'0.01\\', \\'new_value\\': \\'0.1\\'}, {\\'key\\': \\'n_estimators\\', \\'old_value\\': \\'100\\', \\'new_value\\': \\'250\\'}]\\' for run ID=\\'e70293998f0340b8ade3bde8ba8a269c\\'.\")]')]\n",
      "2024/07/30 07:35:52 WARNING mlflow.utils.validation: Tag value '[{\"run_id\": \"e70293998f0340b8ade3bde8ba8a269c\", \"artifact_path\": \"model\", \"utc_time_created\": \"2024-...' (65136 characters) is truncated to 5000 characters to meet the length limit.\n",
      "2024/07/30 07:35:52 WARNING mlflow.utils.autologging_utils: Encountered unexpected error during sklearn autologging: The following failures occurred while performing one or more logging operations: [MlflowException('Failed to perform one or more operations on the run with ID e70293998f0340b8ade3bde8ba8a269c. Failed operations: [MlflowException(\"Changing param values is not allowed. Params were already logged=\\'[{\\'key\\': \\'learning_rate\\', \\'old_value\\': \\'0.01\\', \\'new_value\\': \\'0.1\\'}, {\\'key\\': \\'n_estimators\\', \\'old_value\\': \\'100\\', \\'new_value\\': \\'250\\'}, {\\'key\\': \\'subsample\\', \\'old_value\\': \\'0.8\\', \\'new_value\\': \\'1.0\\'}]\\' for run ID=\\'e70293998f0340b8ade3bde8ba8a269c\\'.\")]')]\n",
      "2024/07/30 07:35:53 WARNING mlflow.utils.validation: Tag value '[{\"run_id\": \"e70293998f0340b8ade3bde8ba8a269c\", \"artifact_path\": \"model\", \"utc_time_created\": \"2024-...' (67160 characters) is truncated to 5000 characters to meet the length limit.\n",
      "2024/07/30 07:35:53 WARNING mlflow.utils.autologging_utils: Encountered unexpected error during sklearn autologging: The following failures occurred while performing one or more logging operations: [MlflowException('Failed to perform one or more operations on the run with ID e70293998f0340b8ade3bde8ba8a269c. Failed operations: [MlflowException(\"Changing param values is not allowed. Params were already logged=\\'[{\\'key\\': \\'learning_rate\\', \\'old_value\\': \\'0.01\\', \\'new_value\\': \\'0.1\\'}, {\\'key\\': \\'max_depth\\', \\'old_value\\': \\'3\\', \\'new_value\\': \\'5\\'}]\\' for run ID=\\'e70293998f0340b8ade3bde8ba8a269c\\'.\")]')]\n",
      "2024/07/30 07:35:54 WARNING mlflow.utils.validation: Tag value '[{\"run_id\": \"e70293998f0340b8ade3bde8ba8a269c\", \"artifact_path\": \"model\", \"utc_time_created\": \"2024-...' (69184 characters) is truncated to 5000 characters to meet the length limit.\n",
      "2024/07/30 07:35:54 WARNING mlflow.utils.autologging_utils: Encountered unexpected error during sklearn autologging: The following failures occurred while performing one or more logging operations: [MlflowException('Failed to perform one or more operations on the run with ID e70293998f0340b8ade3bde8ba8a269c. Failed operations: [MlflowException(\"Changing param values is not allowed. Params were already logged=\\'[{\\'key\\': \\'learning_rate\\', \\'old_value\\': \\'0.01\\', \\'new_value\\': \\'0.1\\'}, {\\'key\\': \\'max_depth\\', \\'old_value\\': \\'3\\', \\'new_value\\': \\'5\\'}, {\\'key\\': \\'subsample\\', \\'old_value\\': \\'0.8\\', \\'new_value\\': \\'1.0\\'}]\\' for run ID=\\'e70293998f0340b8ade3bde8ba8a269c\\'.\")]')]\n",
      "2024/07/30 07:35:56 WARNING mlflow.utils.validation: Tag value '[{\"run_id\": \"e70293998f0340b8ade3bde8ba8a269c\", \"artifact_path\": \"model\", \"utc_time_created\": \"2024-...' (71208 characters) is truncated to 5000 characters to meet the length limit.\n",
      "2024/07/30 07:35:56 WARNING mlflow.utils.autologging_utils: Encountered unexpected error during sklearn autologging: The following failures occurred while performing one or more logging operations: [MlflowException('Failed to perform one or more operations on the run with ID e70293998f0340b8ade3bde8ba8a269c. Failed operations: [MlflowException(\"Changing param values is not allowed. Params were already logged=\\'[{\\'key\\': \\'learning_rate\\', \\'old_value\\': \\'0.01\\', \\'new_value\\': \\'0.1\\'}, {\\'key\\': \\'max_depth\\', \\'old_value\\': \\'3\\', \\'new_value\\': \\'5\\'}, {\\'key\\': \\'n_estimators\\', \\'old_value\\': \\'100\\', \\'new_value\\': \\'250\\'}]\\' for run ID=\\'e70293998f0340b8ade3bde8ba8a269c\\'.\")]')]\n",
      "2024/07/30 07:35:58 WARNING mlflow.utils.validation: Tag value '[{\"run_id\": \"e70293998f0340b8ade3bde8ba8a269c\", \"artifact_path\": \"model\", \"utc_time_created\": \"2024-...' (73232 characters) is truncated to 5000 characters to meet the length limit.\n",
      "2024/07/30 07:35:58 WARNING mlflow.utils.autologging_utils: Encountered unexpected error during sklearn autologging: The following failures occurred while performing one or more logging operations: [MlflowException('Failed to perform one or more operations on the run with ID e70293998f0340b8ade3bde8ba8a269c. Failed operations: [MlflowException(\"Changing param values is not allowed. Params were already logged=\\'[{\\'key\\': \\'learning_rate\\', \\'old_value\\': \\'0.01\\', \\'new_value\\': \\'0.1\\'}, {\\'key\\': \\'max_depth\\', \\'old_value\\': \\'3\\', \\'new_value\\': \\'5\\'}, {\\'key\\': \\'n_estimators\\', \\'old_value\\': \\'100\\', \\'new_value\\': \\'250\\'}, {\\'key\\': \\'subsample\\', \\'old_value\\': \\'0.8\\', \\'new_value\\': \\'1.0\\'}]\\' for run ID=\\'e70293998f0340b8ade3bde8ba8a269c\\'.\")]')]\n",
      "2024/07/30 07:35:59 WARNING mlflow.utils.validation: Tag value '[{\"run_id\": \"e70293998f0340b8ade3bde8ba8a269c\", \"artifact_path\": \"model\", \"utc_time_created\": \"2024-...' (75257 characters) is truncated to 5000 characters to meet the length limit.\n",
      "2024/07/30 07:35:59 WARNING mlflow.utils.autologging_utils: Encountered unexpected error during sklearn autologging: The following failures occurred while performing one or more logging operations: [MlflowException('Failed to perform one or more operations on the run with ID e70293998f0340b8ade3bde8ba8a269c. Failed operations: [MlflowException(\"Changing param values is not allowed. Params were already logged=\\'[{\\'key\\': \\'learning_rate\\', \\'old_value\\': \\'0.01\\', \\'new_value\\': \\'0.1\\'}, {\\'key\\': \\'max_depth\\', \\'old_value\\': \\'3\\', \\'new_value\\': \\'10\\'}]\\' for run ID=\\'e70293998f0340b8ade3bde8ba8a269c\\'.\")]')]\n",
      "2024/07/30 07:36:00 WARNING mlflow.utils.validation: Tag value '[{\"run_id\": \"e70293998f0340b8ade3bde8ba8a269c\", \"artifact_path\": \"model\", \"utc_time_created\": \"2024-...' (77282 characters) is truncated to 5000 characters to meet the length limit.\n",
      "2024/07/30 07:36:00 WARNING mlflow.utils.autologging_utils: Encountered unexpected error during sklearn autologging: The following failures occurred while performing one or more logging operations: [MlflowException('Failed to perform one or more operations on the run with ID e70293998f0340b8ade3bde8ba8a269c. Failed operations: [MlflowException(\"Changing param values is not allowed. Params were already logged=\\'[{\\'key\\': \\'learning_rate\\', \\'old_value\\': \\'0.01\\', \\'new_value\\': \\'0.1\\'}, {\\'key\\': \\'max_depth\\', \\'old_value\\': \\'3\\', \\'new_value\\': \\'10\\'}, {\\'key\\': \\'subsample\\', \\'old_value\\': \\'0.8\\', \\'new_value\\': \\'1.0\\'}]\\' for run ID=\\'e70293998f0340b8ade3bde8ba8a269c\\'.\")]')]\n",
      "2024/07/30 07:36:02 WARNING mlflow.utils.validation: Tag value '[{\"run_id\": \"e70293998f0340b8ade3bde8ba8a269c\", \"artifact_path\": \"model\", \"utc_time_created\": \"2024-...' (79307 characters) is truncated to 5000 characters to meet the length limit.\n",
      "2024/07/30 07:36:02 WARNING mlflow.utils.autologging_utils: Encountered unexpected error during sklearn autologging: The following failures occurred while performing one or more logging operations: [MlflowException('Failed to perform one or more operations on the run with ID e70293998f0340b8ade3bde8ba8a269c. Failed operations: [MlflowException(\"Changing param values is not allowed. Params were already logged=\\'[{\\'key\\': \\'learning_rate\\', \\'old_value\\': \\'0.01\\', \\'new_value\\': \\'0.1\\'}, {\\'key\\': \\'max_depth\\', \\'old_value\\': \\'3\\', \\'new_value\\': \\'10\\'}, {\\'key\\': \\'n_estimators\\', \\'old_value\\': \\'100\\', \\'new_value\\': \\'250\\'}]\\' for run ID=\\'e70293998f0340b8ade3bde8ba8a269c\\'.\")]')]\n",
      "2024/07/30 07:36:04 WARNING mlflow.utils.validation: Tag value '[{\"run_id\": \"e70293998f0340b8ade3bde8ba8a269c\", \"artifact_path\": \"model\", \"utc_time_created\": \"2024-...' (81332 characters) is truncated to 5000 characters to meet the length limit.\n",
      "2024/07/30 07:36:04 WARNING mlflow.utils.autologging_utils: Encountered unexpected error during sklearn autologging: The following failures occurred while performing one or more logging operations: [MlflowException('Failed to perform one or more operations on the run with ID e70293998f0340b8ade3bde8ba8a269c. Failed operations: [MlflowException(\"Changing param values is not allowed. Params were already logged=\\'[{\\'key\\': \\'learning_rate\\', \\'old_value\\': \\'0.01\\', \\'new_value\\': \\'0.1\\'}, {\\'key\\': \\'max_depth\\', \\'old_value\\': \\'3\\', \\'new_value\\': \\'10\\'}, {\\'key\\': \\'n_estimators\\', \\'old_value\\': \\'100\\', \\'new_value\\': \\'250\\'}, {\\'key\\': \\'subsample\\', \\'old_value\\': \\'0.8\\', \\'new_value\\': \\'1.0\\'}]\\' for run ID=\\'e70293998f0340b8ade3bde8ba8a269c\\'.\")]')]\n",
      "2024/07/30 07:36:07 WARNING mlflow.utils.validation: Tag value '[{\"run_id\": \"e70293998f0340b8ade3bde8ba8a269c\", \"artifact_path\": \"model\", \"utc_time_created\": \"2024-...' (83358 characters) is truncated to 5000 characters to meet the length limit.\n",
      "2024/07/30 07:36:07 WARNING mlflow.utils.autologging_utils: Encountered unexpected error during sklearn autologging: The following failures occurred while performing one or more logging operations: [MlflowException('Failed to perform one or more operations on the run with ID e70293998f0340b8ade3bde8ba8a269c. Failed operations: [MlflowException(\"Changing param values is not allowed. Params were already logged=\\'[{\\'key\\': \\'max_depth\\', \\'old_value\\': \\'3\\', \\'new_value\\': \\'10\\'}, {\\'key\\': \\'n_estimators\\', \\'old_value\\': \\'100\\', \\'new_value\\': \\'250\\'}, {\\'key\\': \\'subsample\\', \\'old_value\\': \\'0.8\\', \\'new_value\\': \\'1.0\\'}]\\' for run ID=\\'e70293998f0340b8ade3bde8ba8a269c\\'.\")]')]\n"
     ]
    },
    {
     "name": "stdout",
     "output_type": "stream",
     "text": [
      "`Forecaster` refitted using the best-found lags and parameters, and the whole data set: \n",
      "  Lags: [ 1  2  3  4  5  6  7  8  9 10 11 12 13 14 15 16 17 18 19 20] \n",
      "  Parameters: {'learning_rate': 0.01, 'max_depth': 10, 'n_estimators': 250, 'subsample': 1.0}\n",
      "  Backtesting metric: 19064514337.716393\n",
      "\n"
     ]
    }
   ],
   "source": [
    "from skforecast.ForecasterAutoreg import ForecasterAutoreg\n",
    "from skforecast.model_selection import grid_search_forecaster\n",
    "from sklearn.ensemble import GradientBoostingRegressor\n",
    "\n",
    "\n",
    "with mlflow.start_run():\n",
    "    mlflow.set_tag(\"developer\", \"Remi\")\n",
    "    lags_= 2\n",
    "    mlflow.log_param('lags',lags_ )\n",
    "    mlflow.autolog()\n",
    "\n",
    "    # Hyperparameters: grid search\n",
    "    # ==============================================================================\n",
    "    steps = 30\n",
    "    forecaster = ForecasterAutoreg(\n",
    "                     regressor = GradientBoostingRegressor(random_state=123),\n",
    "                     lags      = 12 # This value will be replaced in the grid search\n",
    "                 )\n",
    "\n",
    "    # Candidate values for lags\n",
    "    lags_grid = [10, 20]\n",
    "    \n",
    "    # Candidate values for regressor's hyperparameters\n",
    "    param_grid = {\n",
    "        'n_estimators': [100, 250],\n",
    "        'max_depth': [3, 5, 10],\n",
    "        'learning_rate': [0.01, 0.1],\n",
    "        'subsample': [0.8, 1.0]\n",
    "    }\n",
    "\n",
    "    results_grid = grid_search_forecaster(\n",
    "                       forecaster         = forecaster,\n",
    "                       y                  = data_train['MWH'],\n",
    "                       param_grid         = param_grid,\n",
    "                       lags_grid          = lags_grid,\n",
    "                       steps              = steps,\n",
    "                       refit              = False,\n",
    "                       metric             = 'mean_squared_error',\n",
    "                       initial_train_size = int(len(data_train)*0.5),\n",
    "                       fixed_train_size   = False,\n",
    "                       return_best        = True,\n",
    "                       n_jobs             = 'auto',\n",
    "                       verbose            = False\n",
    "                   )"
   ]
  },
  {
   "cell_type": "code",
   "execution_count": 26,
   "metadata": {
    "colab": {
     "base_uri": "https://localhost:8080/"
    },
    "id": "qUrXT-3gJmMR",
    "outputId": "07e7cd2d-4b33-498c-ca4a-0534babe318e"
   },
   "outputs": [
    {
     "data": {
      "text/plain": [
       "lags                                    [1, 2, 3, 4, 5, 6, 7, 8, 9, 10]\n",
       "lags_label                              [1, 2, 3, 4, 5, 6, 7, 8, 9, 10]\n",
       "params                {'learning_rate': 0.01, 'max_depth': 5, 'n_est...\n",
       "mean_squared_error                                   45607008294.284142\n",
       "learning_rate                                                      0.01\n",
       "max_depth                                                           5.0\n",
       "n_estimators                                                      250.0\n",
       "subsample                                                           1.0\n",
       "Name: 7, dtype: object"
      ]
     },
     "execution_count": 26,
     "metadata": {},
     "output_type": "execute_result"
    }
   ],
   "source": [
    "results_grid\n",
    "results_grid.iloc[35]"
   ]
  },
  {
   "cell_type": "code",
   "execution_count": 30,
   "metadata": {
    "colab": {
     "base_uri": "https://localhost:8080/",
     "height": 417
    },
    "id": "CfVIrDHlMew6",
    "outputId": "c31a5794-4138-4306-ceeb-800b4db64a51"
   },
   "outputs": [
    {
     "name": "stderr",
     "output_type": "stream",
     "text": [
      "2024/07/30 07:38:23 INFO mlflow.tracking.fluent: Autologging successfully enabled for sklearn.\n"
     ]
    },
    {
     "name": "stdout",
     "output_type": "stream",
     "text": [
      "Test error (MSE): 17773442796.942036\n"
     ]
    },
    {
     "name": "stderr",
     "output_type": "stream",
     "text": [
      "Registered model 'GradientBoostingRegressor_model' already exists. Creating a new version of this model...\n",
      "Created version '2' of model 'GradientBoostingRegressor_model'.\n"
     ]
    }
   ],
   "source": [
    "from skforecast.ForecasterAutoreg import ForecasterAutoreg\n",
    "from sklearn.ensemble import GradientBoostingRegressor\n",
    "from sklearn.metrics import mean_squared_error\n",
    "import matplotlib.pyplot as plt\n",
    "\n",
    "\n",
    "with mlflow.start_run():\n",
    "    mlflow.set_tag(\"developer\", \"Remi\")\n",
    "    mlflow.set_tag(\"best model\", \"Remi\")\n",
    "    mlflow.autolog()\n",
    "    # Create and train forecaster with the best hyperparameters \n",
    "    # ==============================================================================\n",
    "    regressor = GradientBoostingRegressor(n_estimators=250,\n",
    "                                          max_depth=5,\n",
    "                                          learning_rate=0.1,\n",
    "                                          subsample=1.0,\n",
    "                                          random_state=123)\n",
    "\n",
    "    # Create and train forecaster with the best hyperparameters and lags found\n",
    "    forecaster = ForecasterAutoreg(\n",
    "                 regressor = regressor,\n",
    "                 lags      = 10\n",
    "             )\n",
    "    forecaster.fit(y=data_train['MWH'])\n",
    "\n",
    "    # Predictions best model\n",
    "    # ==============================================================================\n",
    "    steps = 30\n",
    "    predictions = forecaster.predict(steps=steps)\n",
    "\n",
    "    \n",
    "    # Test error\n",
    "    # ==============================================================================\n",
    "    error_mse = mean_squared_error(\n",
    "                    y_true = data_test['MWH'],\n",
    "                    y_pred = predictions\n",
    "                )\n",
    "    print(f\"Test error (MSE): {error_mse}\")\n",
    "    \n",
    "    mlflow.log_metric(\"error_mse\", error_mse)\n",
    "    joblib.dump(forecaster, f'models/GradientBoostingRegressor{now}.pkl')\n",
    "    \n",
    "    # Log the sklearn model and register the best model\n",
    "    mlflow.sklearn.log_model(sk_model=forecaster,artifact_path=\"sklearn-model\",registered_model_name=f\"GradientBoostingRegressor_model\")\n",
    "    \n",
    "\n",
    "\n"
   ]
  },
  {
   "cell_type": "code",
   "execution_count": 32,
   "metadata": {},
   "outputs": [
    {
     "data": {
      "image/png": "[encoded data removed]",
      "text/plain": [
       "<Figure size 1500x500 with 1 Axes>"
      ]
     },
     "metadata": {},
     "output_type": "display_data"
    }
   ],
   "source": [
    "    # Plot predictions versus test data\n",
    "    # ==============================================================================\n",
    "    fig, ax = plt.subplots(figsize=(15, 5))\n",
    "    data_train['MWH'].plot(ax=ax, label='train')\n",
    "    data_test['MWH'].plot(ax=ax, label='test')\n",
    "    predictions.plot(ax=ax, label='predictions')\n",
    "    ax.legend()\n",
    "    plt.show()"
   ]
  },
  {
   "cell_type": "code",
   "execution_count": null,
   "metadata": {},
   "outputs": [],
   "source": []
  },
  {
   "cell_type": "code",
   "execution_count": null,
   "metadata": {},
   "outputs": [],
   "source": []
  },
  {
   "cell_type": "code",
   "execution_count": null,
   "metadata": {},
   "outputs": [],
   "source": []
  }
 ],
 "metadata": {
  "colab": {
   "provenance": []
  },
  "kernelspec": {
   "display_name": "Python 3 (ipykernel)",
   "language": "python",
   "name": "python3"
  },
  "language_info": {
   "codemirror_mode": {
    "name": "ipython",
    "version": 3
   },
   "file_extension": ".py",
   "mimetype": "text/x-python",
   "name": "python",
   "nbconvert_exporter": "python",
   "pygments_lexer": "ipython3",
   "version": "3.10.14"
  },
  "widgets": {
   "application/vnd.jupyter.widget-state+json": {
    "0195c58eaada41b49f1d1667faae9abe": {
     "model_module": "@jupyter-widgets/controls",
     "model_module_version": "1.5.0",
     "model_name": "FloatProgressModel",
     "state": {
      "_dom_classes": [],
      "_model_module": "@jupyter-widgets/controls",
      "_model_module_version": "1.5.0",
      "_model_name": "FloatProgressModel",
      "_view_count": null,
      "_view_module": "@jupyter-widgets/controls",
      "_view_module_version": "1.5.0",
      "_view_name": "ProgressView",
      "bar_style": "",
      "description": "",
      "description_tooltip": null,
      "layout": "IPY_MODEL_104b0053e09b43ea88b1a15d44d1c3c4",
      "max": 6,
      "min": 0,
      "orientation": "horizontal",
      "style": "IPY_MODEL_976f16323f784a93a693a1e674cb0f69",
      "value": 6
     }
    },
    "082f17d77caf46efb68085b637959634": {
     "model_module": "@jupyter-widgets/controls",
     "model_module_version": "1.5.0",
     "model_name": "HTMLModel",
     "state": {
      "_dom_classes": [],
      "_model_module": "@jupyter-widgets/controls",
      "_model_module_version": "1.5.0",
      "_model_name": "HTMLModel",
      "_view_count": null,
      "_view_module": "@jupyter-widgets/controls",
      "_view_module_version": "1.5.0",
      "_view_name": "HTMLView",
      "description": "",
      "description_tooltip": null,
      "layout": "IPY_MODEL_b1d69feba78f451a952efc37c3e4ae6d",
      "placeholder": "​",
      "style": "IPY_MODEL_5f51184f252145f09bed5623cb46d288",
      "value": " 2/2 [00:38&lt;00:00, 19.11s/it]"
     }
    },
    "0919a9450322412fb02d95d203aec004": {
     "model_module": "@jupyter-widgets/controls",
     "model_module_version": "1.5.0",
     "model_name": "ProgressStyleModel",
     "state": {
      "_model_module": "@jupyter-widgets/controls",
      "_model_module_version": "1.5.0",
      "_model_name": "ProgressStyleModel",
      "_view_count": null,
      "_view_module": "@jupyter-widgets/base",
      "_view_module_version": "1.2.0",
      "_view_name": "StyleView",
      "bar_color": null,
      "description_width": ""
     }
    },
    "0e4fab04a3234053a54920770667f661": {
     "model_module": "@jupyter-widgets/controls",
     "model_module_version": "1.5.0",
     "model_name": "DescriptionStyleModel",
     "state": {
      "_model_module": "@jupyter-widgets/controls",
      "_model_module_version": "1.5.0",
      "_model_name": "DescriptionStyleModel",
      "_view_count": null,
      "_view_module": "@jupyter-widgets/base",
      "_view_module_version": "1.2.0",
      "_view_name": "StyleView",
      "description_width": ""
     }
    },
    "104b0053e09b43ea88b1a15d44d1c3c4": {
     "model_module": "@jupyter-widgets/base",
     "model_module_version": "1.2.0",
     "model_name": "LayoutModel",
     "state": {
      "_model_module": "@jupyter-widgets/base",
      "_model_module_version": "1.2.0",
      "_model_name": "LayoutModel",
      "_view_count": null,
      "_view_module": "@jupyter-widgets/base",
      "_view_module_version": "1.2.0",
      "_view_name": "LayoutView",
      "align_content": null,
      "align_items": null,
      "align_self": null,
      "border": null,
      "bottom": null,
      "display": null,
      "flex": null,
      "flex_flow": null,
      "grid_area": null,
      "grid_auto_columns": null,
      "grid_auto_flow": null,
      "grid_auto_rows": null,
      "grid_column": null,
      "grid_gap": null,
      "grid_row": null,
      "grid_template_areas": null,
      "grid_template_columns": null,
      "grid_template_rows": null,
      "height": null,
      "justify_content": null,
      "justify_items": null,
      "left": null,
      "margin": null,
      "max_height": null,
      "max_width": null,
      "min_height": null,
      "min_width": null,
      "object_fit": null,
      "object_position": null,
      "order": null,
      "overflow": null,
      "overflow_x": null,
      "overflow_y": null,
      "padding": null,
      "right": null,
      "top": null,
      "visibility": null,
      "width": null
     }
    },
    "1c97e98d2cb74bcb80c559f99eac9487": {
     "model_module": "@jupyter-widgets/controls",
     "model_module_version": "1.5.0",
     "model_name": "DescriptionStyleModel",
     "state": {
      "_model_module": "@jupyter-widgets/controls",
      "_model_module_version": "1.5.0",
      "_model_name": "DescriptionStyleModel",
      "_view_count": null,
      "_view_module": "@jupyter-widgets/base",
      "_view_module_version": "1.2.0",
      "_view_name": "StyleView",
      "description_width": ""
     }
    },
    "1f699b2ff79e4eca8c56a0c435c72281": {
     "model_module": "@jupyter-widgets/controls",
     "model_module_version": "1.5.0",
     "model_name": "DescriptionStyleModel",
     "state": {
      "_model_module": "@jupyter-widgets/controls",
      "_model_module_version": "1.5.0",
      "_model_name": "DescriptionStyleModel",
      "_view_count": null,
      "_view_module": "@jupyter-widgets/base",
      "_view_module_version": "1.2.0",
      "_view_name": "StyleView",
      "description_width": ""
     }
    },
    "213f4d2f3bd74728a0eb4d8a49685d16": {
     "model_module": "@jupyter-widgets/base",
     "model_module_version": "1.2.0",
     "model_name": "LayoutModel",
     "state": {
      "_model_module": "@jupyter-widgets/base",
      "_model_module_version": "1.2.0",
      "_model_name": "LayoutModel",
      "_view_count": null,
      "_view_module": "@jupyter-widgets/base",
      "_view_module_version": "1.2.0",
      "_view_name": "LayoutView",
      "align_content": null,
      "align_items": null,
      "align_self": null,
      "border": null,
      "bottom": null,
      "display": null,
      "flex": null,
      "flex_flow": null,
      "grid_area": null,
      "grid_auto_columns": null,
      "grid_auto_flow": null,
      "grid_auto_rows": null,
      "grid_column": null,
      "grid_gap": null,
      "grid_row": null,
      "grid_template_areas": null,
      "grid_template_columns": null,
      "grid_template_rows": null,
      "height": null,
      "justify_content": null,
      "justify_items": null,
      "left": null,
      "margin": null,
      "max_height": null,
      "max_width": null,
      "min_height": null,
      "min_width": null,
      "object_fit": null,
      "object_position": null,
      "order": null,
      "overflow": null,
      "overflow_x": null,
      "overflow_y": null,
      "padding": null,
      "right": null,
      "top": null,
      "visibility": null,
      "width": null
     }
    },
    "2d22817a9b764d85877341ef3ce7f3be": {
     "model_module": "@jupyter-widgets/controls",
     "model_module_version": "1.5.0",
     "model_name": "DescriptionStyleModel",
     "state": {
      "_model_module": "@jupyter-widgets/controls",
      "_model_module_version": "1.5.0",
      "_model_name": "DescriptionStyleModel",
      "_view_count": null,
      "_view_module": "@jupyter-widgets/base",
      "_view_module_version": "1.2.0",
      "_view_name": "StyleView",
      "description_width": ""
     }
    },
    "30778273e570438492828446b525487c": {
     "model_module": "@jupyter-widgets/controls",
     "model_module_version": "1.5.0",
     "model_name": "HTMLModel",
     "state": {
      "_dom_classes": [],
      "_model_module": "@jupyter-widgets/controls",
      "_model_module_version": "1.5.0",
      "_model_name": "HTMLModel",
      "_view_count": null,
      "_view_module": "@jupyter-widgets/controls",
      "_view_module_version": "1.5.0",
      "_view_name": "HTMLView",
      "description": "",
      "description_tooltip": null,
      "layout": "IPY_MODEL_4c3eba12d8774e4c849b9f99cfe55fb5",
      "placeholder": "​",
      "style": "IPY_MODEL_1c97e98d2cb74bcb80c559f99eac9487",
      "value": "params grid: 100%"
     }
    },
    "3671b06cdffb4940a2607ff910288443": {
     "model_module": "@jupyter-widgets/base",
     "model_module_version": "1.2.0",
     "model_name": "LayoutModel",
     "state": {
      "_model_module": "@jupyter-widgets/base",
      "_model_module_version": "1.2.0",
      "_model_name": "LayoutModel",
      "_view_count": null,
      "_view_module": "@jupyter-widgets/base",
      "_view_module_version": "1.2.0",
      "_view_name": "LayoutView",
      "align_content": null,
      "align_items": null,
      "align_self": null,
      "border": null,
      "bottom": null,
      "display": null,
      "flex": null,
      "flex_flow": null,
      "grid_area": null,
      "grid_auto_columns": null,
      "grid_auto_flow": null,
      "grid_auto_rows": null,
      "grid_column": null,
      "grid_gap": null,
      "grid_row": null,
      "grid_template_areas": null,
      "grid_template_columns": null,
      "grid_template_rows": null,
      "height": null,
      "justify_content": null,
      "justify_items": null,
      "left": null,
      "margin": null,
      "max_height": null,
      "max_width": null,
      "min_height": null,
      "min_width": null,
      "object_fit": null,
      "object_position": null,
      "order": null,
      "overflow": null,
      "overflow_x": null,
      "overflow_y": null,
      "padding": null,
      "right": null,
      "top": null,
      "visibility": null,
      "width": null
     }
    },
    "3a8f526fd4814a92bb90ec73aecefe85": {
     "model_module": "@jupyter-widgets/controls",
     "model_module_version": "1.5.0",
     "model_name": "HTMLModel",
     "state": {
      "_dom_classes": [],
      "_model_module": "@jupyter-widgets/controls",
      "_model_module_version": "1.5.0",
      "_model_name": "HTMLModel",
      "_view_count": null,
      "_view_module": "@jupyter-widgets/controls",
      "_view_module_version": "1.5.0",
      "_view_name": "HTMLView",
      "description": "",
      "description_tooltip": null,
      "layout": "IPY_MODEL_b2bed72185604439af3eeddd5a362ae5",
      "placeholder": "​",
      "style": "IPY_MODEL_0e4fab04a3234053a54920770667f661",
      "value": "lags grid: 100%"
     }
    },
    "44e1d76028a04a5fa4623a3ec2d81f13": {
     "model_module": "@jupyter-widgets/controls",
     "model_module_version": "1.5.0",
     "model_name": "ProgressStyleModel",
     "state": {
      "_model_module": "@jupyter-widgets/controls",
      "_model_module_version": "1.5.0",
      "_model_name": "ProgressStyleModel",
      "_view_count": null,
      "_view_module": "@jupyter-widgets/base",
      "_view_module_version": "1.2.0",
      "_view_name": "StyleView",
      "bar_color": null,
      "description_width": ""
     }
    },
    "4c3eba12d8774e4c849b9f99cfe55fb5": {
     "model_module": "@jupyter-widgets/base",
     "model_module_version": "1.2.0",
     "model_name": "LayoutModel",
     "state": {
      "_model_module": "@jupyter-widgets/base",
      "_model_module_version": "1.2.0",
      "_model_name": "LayoutModel",
      "_view_count": null,
      "_view_module": "@jupyter-widgets/base",
      "_view_module_version": "1.2.0",
      "_view_name": "LayoutView",
      "align_content": null,
      "align_items": null,
      "align_self": null,
      "border": null,
      "bottom": null,
      "display": null,
      "flex": null,
      "flex_flow": null,
      "grid_area": null,
      "grid_auto_columns": null,
      "grid_auto_flow": null,
      "grid_auto_rows": null,
      "grid_column": null,
      "grid_gap": null,
      "grid_row": null,
      "grid_template_areas": null,
      "grid_template_columns": null,
      "grid_template_rows": null,
      "height": null,
      "justify_content": null,
      "justify_items": null,
      "left": null,
      "margin": null,
      "max_height": null,
      "max_width": null,
      "min_height": null,
      "min_width": null,
      "object_fit": null,
      "object_position": null,
      "order": null,
      "overflow": null,
      "overflow_x": null,
      "overflow_y": null,
      "padding": null,
      "right": null,
      "top": null,
      "visibility": null,
      "width": null
     }
    },
    "530268512f614006bb7eb3402b09d933": {
     "model_module": "@jupyter-widgets/base",
     "model_module_version": "1.2.0",
     "model_name": "LayoutModel",
     "state": {
      "_model_module": "@jupyter-widgets/base",
      "_model_module_version": "1.2.0",
      "_model_name": "LayoutModel",
      "_view_count": null,
      "_view_module": "@jupyter-widgets/base",
      "_view_module_version": "1.2.0",
      "_view_name": "LayoutView",
      "align_content": null,
      "align_items": null,
      "align_self": null,
      "border": null,
      "bottom": null,
      "display": null,
      "flex": null,
      "flex_flow": null,
      "grid_area": null,
      "grid_auto_columns": null,
      "grid_auto_flow": null,
      "grid_auto_rows": null,
      "grid_column": null,
      "grid_gap": null,
      "grid_row": null,
      "grid_template_areas": null,
      "grid_template_columns": null,
      "grid_template_rows": null,
      "height": null,
      "justify_content": null,
      "justify_items": null,
      "left": null,
      "margin": null,
      "max_height": null,
      "max_width": null,
      "min_height": null,
      "min_width": null,
      "object_fit": null,
      "object_position": null,
      "order": null,
      "overflow": null,
      "overflow_x": null,
      "overflow_y": null,
      "padding": null,
      "right": null,
      "top": null,
      "visibility": null,
      "width": null
     }
    },
    "5433a2f44a8646afa8ebf643d1ba83e2": {
     "model_module": "@jupyter-widgets/controls",
     "model_module_version": "1.5.0",
     "model_name": "FloatProgressModel",
     "state": {
      "_dom_classes": [],
      "_model_module": "@jupyter-widgets/controls",
      "_model_module_version": "1.5.0",
      "_model_name": "FloatProgressModel",
      "_view_count": null,
      "_view_module": "@jupyter-widgets/controls",
      "_view_module_version": "1.5.0",
      "_view_name": "ProgressView",
      "bar_style": "success",
      "description": "",
      "description_tooltip": null,
      "layout": "IPY_MODEL_530268512f614006bb7eb3402b09d933",
      "max": 2,
      "min": 0,
      "orientation": "horizontal",
      "style": "IPY_MODEL_44e1d76028a04a5fa4623a3ec2d81f13",
      "value": 2
     }
    },
    "57790a2ed638475c9ea3e5e689e0fab4": {
     "model_module": "@jupyter-widgets/base",
     "model_module_version": "1.2.0",
     "model_name": "LayoutModel",
     "state": {
      "_model_module": "@jupyter-widgets/base",
      "_model_module_version": "1.2.0",
      "_model_name": "LayoutModel",
      "_view_count": null,
      "_view_module": "@jupyter-widgets/base",
      "_view_module_version": "1.2.0",
      "_view_name": "LayoutView",
      "align_content": null,
      "align_items": null,
      "align_self": null,
      "border": null,
      "bottom": null,
      "display": null,
      "flex": null,
      "flex_flow": null,
      "grid_area": null,
      "grid_auto_columns": null,
      "grid_auto_flow": null,
      "grid_auto_rows": null,
      "grid_column": null,
      "grid_gap": null,
      "grid_row": null,
      "grid_template_areas": null,
      "grid_template_columns": null,
      "grid_template_rows": null,
      "height": null,
      "justify_content": null,
      "justify_items": null,
      "left": null,
      "margin": null,
      "max_height": null,
      "max_width": null,
      "min_height": null,
      "min_width": null,
      "object_fit": null,
      "object_position": null,
      "order": null,
      "overflow": null,
      "overflow_x": null,
      "overflow_y": null,
      "padding": null,
      "right": null,
      "top": null,
      "visibility": "hidden",
      "width": null
     }
    },
    "5f51184f252145f09bed5623cb46d288": {
     "model_module": "@jupyter-widgets/controls",
     "model_module_version": "1.5.0",
     "model_name": "DescriptionStyleModel",
     "state": {
      "_model_module": "@jupyter-widgets/controls",
      "_model_module_version": "1.5.0",
      "_model_name": "DescriptionStyleModel",
      "_view_count": null,
      "_view_module": "@jupyter-widgets/base",
      "_view_module_version": "1.2.0",
      "_view_name": "StyleView",
      "description_width": ""
     }
    },
    "642717850fe948cdb9317e089ad0c4de": {
     "model_module": "@jupyter-widgets/controls",
     "model_module_version": "1.5.0",
     "model_name": "HBoxModel",
     "state": {
      "_dom_classes": [],
      "_model_module": "@jupyter-widgets/controls",
      "_model_module_version": "1.5.0",
      "_model_name": "HBoxModel",
      "_view_count": null,
      "_view_module": "@jupyter-widgets/controls",
      "_view_module_version": "1.5.0",
      "_view_name": "HBoxView",
      "box_style": "",
      "children": [
       "IPY_MODEL_f38cb1bde9494d89b8c4d6fb29d09994",
       "IPY_MODEL_b16dc80cb9c94006b48a515693a189c9",
       "IPY_MODEL_a4bd842b58524daeb10f5d860f0b78fd"
      ],
      "layout": "IPY_MODEL_213f4d2f3bd74728a0eb4d8a49685d16"
     }
    },
    "65ab6c2e53a645ebbb59f94cc63218e5": {
     "model_module": "@jupyter-widgets/controls",
     "model_module_version": "1.5.0",
     "model_name": "DescriptionStyleModel",
     "state": {
      "_model_module": "@jupyter-widgets/controls",
      "_model_module_version": "1.5.0",
      "_model_name": "DescriptionStyleModel",
      "_view_count": null,
      "_view_module": "@jupyter-widgets/base",
      "_view_module_version": "1.2.0",
      "_view_name": "StyleView",
      "description_width": ""
     }
    },
    "7622b00d3b2a41f584ab186ced178878": {
     "model_module": "@jupyter-widgets/controls",
     "model_module_version": "1.5.0",
     "model_name": "HBoxModel",
     "state": {
      "_dom_classes": [],
      "_model_module": "@jupyter-widgets/controls",
      "_model_module_version": "1.5.0",
      "_model_name": "HBoxModel",
      "_view_count": null,
      "_view_module": "@jupyter-widgets/controls",
      "_view_module_version": "1.5.0",
      "_view_name": "HBoxView",
      "box_style": "",
      "children": [
       "IPY_MODEL_3a8f526fd4814a92bb90ec73aecefe85",
       "IPY_MODEL_5433a2f44a8646afa8ebf643d1ba83e2",
       "IPY_MODEL_082f17d77caf46efb68085b637959634"
      ],
      "layout": "IPY_MODEL_aaafe02921db4f65b2ab1e7f5f0fe976"
     }
    },
    "7beb8251b0b644f1a941606e8e7b97f4": {
     "model_module": "@jupyter-widgets/controls",
     "model_module_version": "1.5.0",
     "model_name": "DescriptionStyleModel",
     "state": {
      "_model_module": "@jupyter-widgets/controls",
      "_model_module_version": "1.5.0",
      "_model_name": "DescriptionStyleModel",
      "_view_count": null,
      "_view_module": "@jupyter-widgets/base",
      "_view_module_version": "1.2.0",
      "_view_name": "StyleView",
      "description_width": ""
     }
    },
    "860b4296fcad46ce9e75daad48f8ef3e": {
     "model_module": "@jupyter-widgets/base",
     "model_module_version": "1.2.0",
     "model_name": "LayoutModel",
     "state": {
      "_model_module": "@jupyter-widgets/base",
      "_model_module_version": "1.2.0",
      "_model_name": "LayoutModel",
      "_view_count": null,
      "_view_module": "@jupyter-widgets/base",
      "_view_module_version": "1.2.0",
      "_view_name": "LayoutView",
      "align_content": null,
      "align_items": null,
      "align_self": null,
      "border": null,
      "bottom": null,
      "display": null,
      "flex": null,
      "flex_flow": null,
      "grid_area": null,
      "grid_auto_columns": null,
      "grid_auto_flow": null,
      "grid_auto_rows": null,
      "grid_column": null,
      "grid_gap": null,
      "grid_row": null,
      "grid_template_areas": null,
      "grid_template_columns": null,
      "grid_template_rows": null,
      "height": null,
      "justify_content": null,
      "justify_items": null,
      "left": null,
      "margin": null,
      "max_height": null,
      "max_width": null,
      "min_height": null,
      "min_width": null,
      "object_fit": null,
      "object_position": null,
      "order": null,
      "overflow": null,
      "overflow_x": null,
      "overflow_y": null,
      "padding": null,
      "right": null,
      "top": null,
      "visibility": null,
      "width": null
     }
    },
    "879f6c8d69d54c968bace0955b6fc853": {
     "model_module": "@jupyter-widgets/base",
     "model_module_version": "1.2.0",
     "model_name": "LayoutModel",
     "state": {
      "_model_module": "@jupyter-widgets/base",
      "_model_module_version": "1.2.0",
      "_model_name": "LayoutModel",
      "_view_count": null,
      "_view_module": "@jupyter-widgets/base",
      "_view_module_version": "1.2.0",
      "_view_name": "LayoutView",
      "align_content": null,
      "align_items": null,
      "align_self": null,
      "border": null,
      "bottom": null,
      "display": null,
      "flex": null,
      "flex_flow": null,
      "grid_area": null,
      "grid_auto_columns": null,
      "grid_auto_flow": null,
      "grid_auto_rows": null,
      "grid_column": null,
      "grid_gap": null,
      "grid_row": null,
      "grid_template_areas": null,
      "grid_template_columns": null,
      "grid_template_rows": null,
      "height": null,
      "justify_content": null,
      "justify_items": null,
      "left": null,
      "margin": null,
      "max_height": null,
      "max_width": null,
      "min_height": null,
      "min_width": null,
      "object_fit": null,
      "object_position": null,
      "order": null,
      "overflow": null,
      "overflow_x": null,
      "overflow_y": null,
      "padding": null,
      "right": null,
      "top": null,
      "visibility": null,
      "width": null
     }
    },
    "8c26b6e354c0430aabf09740a1ea0804": {
     "model_module": "@jupyter-widgets/controls",
     "model_module_version": "1.5.0",
     "model_name": "ProgressStyleModel",
     "state": {
      "_model_module": "@jupyter-widgets/controls",
      "_model_module_version": "1.5.0",
      "_model_name": "ProgressStyleModel",
      "_view_count": null,
      "_view_module": "@jupyter-widgets/base",
      "_view_module_version": "1.2.0",
      "_view_name": "StyleView",
      "bar_color": null,
      "description_width": ""
     }
    },
    "92ffce00a3534ed58e56ccaa6bfe65bb": {
     "model_module": "@jupyter-widgets/controls",
     "model_module_version": "1.5.0",
     "model_name": "HTMLModel",
     "state": {
      "_dom_classes": [],
      "_model_module": "@jupyter-widgets/controls",
      "_model_module_version": "1.5.0",
      "_model_name": "HTMLModel",
      "_view_count": null,
      "_view_module": "@jupyter-widgets/controls",
      "_view_module_version": "1.5.0",
      "_view_name": "HTMLView",
      "description": "",
      "description_tooltip": null,
      "layout": "IPY_MODEL_da9a6417338d4a33ba62e154efe0fe1b",
      "placeholder": "​",
      "style": "IPY_MODEL_7beb8251b0b644f1a941606e8e7b97f4",
      "value": " 24/24 [00:13&lt;00:00,  1.43it/s]"
     }
    },
    "9504d9dde2354321bd1694533879e8e9": {
     "model_module": "@jupyter-widgets/controls",
     "model_module_version": "1.5.0",
     "model_name": "HBoxModel",
     "state": {
      "_dom_classes": [],
      "_model_module": "@jupyter-widgets/controls",
      "_model_module_version": "1.5.0",
      "_model_name": "HBoxModel",
      "_view_count": null,
      "_view_module": "@jupyter-widgets/controls",
      "_view_module_version": "1.5.0",
      "_view_name": "HBoxView",
      "box_style": "",
      "children": [
       "IPY_MODEL_db7257188ec84e86bb6781c2942477b1",
       "IPY_MODEL_0195c58eaada41b49f1d1667faae9abe",
       "IPY_MODEL_e3566ddf240843768685c25a261af07a"
      ],
      "layout": "IPY_MODEL_57790a2ed638475c9ea3e5e689e0fab4"
     }
    },
    "976f16323f784a93a693a1e674cb0f69": {
     "model_module": "@jupyter-widgets/controls",
     "model_module_version": "1.5.0",
     "model_name": "ProgressStyleModel",
     "state": {
      "_model_module": "@jupyter-widgets/controls",
      "_model_module_version": "1.5.0",
      "_model_name": "ProgressStyleModel",
      "_view_count": null,
      "_view_module": "@jupyter-widgets/base",
      "_view_module_version": "1.2.0",
      "_view_name": "StyleView",
      "bar_color": null,
      "description_width": ""
     }
    },
    "a4bd842b58524daeb10f5d860f0b78fd": {
     "model_module": "@jupyter-widgets/controls",
     "model_module_version": "1.5.0",
     "model_name": "HTMLModel",
     "state": {
      "_dom_classes": [],
      "_model_module": "@jupyter-widgets/controls",
      "_model_module_version": "1.5.0",
      "_model_name": "HTMLModel",
      "_view_count": null,
      "_view_module": "@jupyter-widgets/controls",
      "_view_module_version": "1.5.0",
      "_view_name": "HTMLView",
      "description": "",
      "description_tooltip": null,
      "layout": "IPY_MODEL_edd66bedda234207b22f2a2fb1b9c355",
      "placeholder": "​",
      "style": "IPY_MODEL_1f699b2ff79e4eca8c56a0c435c72281",
      "value": " 2/2 [00:32&lt;00:00, 16.69s/it]"
     }
    },
    "a800b872e81c4b86959b5068a7c3c749": {
     "model_module": "@jupyter-widgets/base",
     "model_module_version": "1.2.0",
     "model_name": "LayoutModel",
     "state": {
      "_model_module": "@jupyter-widgets/base",
      "_model_module_version": "1.2.0",
      "_model_name": "LayoutModel",
      "_view_count": null,
      "_view_module": "@jupyter-widgets/base",
      "_view_module_version": "1.2.0",
      "_view_name": "LayoutView",
      "align_content": null,
      "align_items": null,
      "align_self": null,
      "border": null,
      "bottom": null,
      "display": null,
      "flex": null,
      "flex_flow": null,
      "grid_area": null,
      "grid_auto_columns": null,
      "grid_auto_flow": null,
      "grid_auto_rows": null,
      "grid_column": null,
      "grid_gap": null,
      "grid_row": null,
      "grid_template_areas": null,
      "grid_template_columns": null,
      "grid_template_rows": null,
      "height": null,
      "justify_content": null,
      "justify_items": null,
      "left": null,
      "margin": null,
      "max_height": null,
      "max_width": null,
      "min_height": null,
      "min_width": null,
      "object_fit": null,
      "object_position": null,
      "order": null,
      "overflow": null,
      "overflow_x": null,
      "overflow_y": null,
      "padding": null,
      "right": null,
      "top": null,
      "visibility": "hidden",
      "width": null
     }
    },
    "aaafe02921db4f65b2ab1e7f5f0fe976": {
     "model_module": "@jupyter-widgets/base",
     "model_module_version": "1.2.0",
     "model_name": "LayoutModel",
     "state": {
      "_model_module": "@jupyter-widgets/base",
      "_model_module_version": "1.2.0",
      "_model_name": "LayoutModel",
      "_view_count": null,
      "_view_module": "@jupyter-widgets/base",
      "_view_module_version": "1.2.0",
      "_view_name": "LayoutView",
      "align_content": null,
      "align_items": null,
      "align_self": null,
      "border": null,
      "bottom": null,
      "display": null,
      "flex": null,
      "flex_flow": null,
      "grid_area": null,
      "grid_auto_columns": null,
      "grid_auto_flow": null,
      "grid_auto_rows": null,
      "grid_column": null,
      "grid_gap": null,
      "grid_row": null,
      "grid_template_areas": null,
      "grid_template_columns": null,
      "grid_template_rows": null,
      "height": null,
      "justify_content": null,
      "justify_items": null,
      "left": null,
      "margin": null,
      "max_height": null,
      "max_width": null,
      "min_height": null,
      "min_width": null,
      "object_fit": null,
      "object_position": null,
      "order": null,
      "overflow": null,
      "overflow_x": null,
      "overflow_y": null,
      "padding": null,
      "right": null,
      "top": null,
      "visibility": null,
      "width": null
     }
    },
    "aac536ba81de41cd86b2fd21a730e439": {
     "model_module": "@jupyter-widgets/controls",
     "model_module_version": "1.5.0",
     "model_name": "DescriptionStyleModel",
     "state": {
      "_model_module": "@jupyter-widgets/controls",
      "_model_module_version": "1.5.0",
      "_model_name": "DescriptionStyleModel",
      "_view_count": null,
      "_view_module": "@jupyter-widgets/base",
      "_view_module_version": "1.2.0",
      "_view_name": "StyleView",
      "description_width": ""
     }
    },
    "b16dc80cb9c94006b48a515693a189c9": {
     "model_module": "@jupyter-widgets/controls",
     "model_module_version": "1.5.0",
     "model_name": "FloatProgressModel",
     "state": {
      "_dom_classes": [],
      "_model_module": "@jupyter-widgets/controls",
      "_model_module_version": "1.5.0",
      "_model_name": "FloatProgressModel",
      "_view_count": null,
      "_view_module": "@jupyter-widgets/controls",
      "_view_module_version": "1.5.0",
      "_view_name": "ProgressView",
      "bar_style": "success",
      "description": "",
      "description_tooltip": null,
      "layout": "IPY_MODEL_860b4296fcad46ce9e75daad48f8ef3e",
      "max": 2,
      "min": 0,
      "orientation": "horizontal",
      "style": "IPY_MODEL_8c26b6e354c0430aabf09740a1ea0804",
      "value": 2
     }
    },
    "b1d69feba78f451a952efc37c3e4ae6d": {
     "model_module": "@jupyter-widgets/base",
     "model_module_version": "1.2.0",
     "model_name": "LayoutModel",
     "state": {
      "_model_module": "@jupyter-widgets/base",
      "_model_module_version": "1.2.0",
      "_model_name": "LayoutModel",
      "_view_count": null,
      "_view_module": "@jupyter-widgets/base",
      "_view_module_version": "1.2.0",
      "_view_name": "LayoutView",
      "align_content": null,
      "align_items": null,
      "align_self": null,
      "border": null,
      "bottom": null,
      "display": null,
      "flex": null,
      "flex_flow": null,
      "grid_area": null,
      "grid_auto_columns": null,
      "grid_auto_flow": null,
      "grid_auto_rows": null,
      "grid_column": null,
      "grid_gap": null,
      "grid_row": null,
      "grid_template_areas": null,
      "grid_template_columns": null,
      "grid_template_rows": null,
      "height": null,
      "justify_content": null,
      "justify_items": null,
      "left": null,
      "margin": null,
      "max_height": null,
      "max_width": null,
      "min_height": null,
      "min_width": null,
      "object_fit": null,
      "object_position": null,
      "order": null,
      "overflow": null,
      "overflow_x": null,
      "overflow_y": null,
      "padding": null,
      "right": null,
      "top": null,
      "visibility": null,
      "width": null
     }
    },
    "b2bed72185604439af3eeddd5a362ae5": {
     "model_module": "@jupyter-widgets/base",
     "model_module_version": "1.2.0",
     "model_name": "LayoutModel",
     "state": {
      "_model_module": "@jupyter-widgets/base",
      "_model_module_version": "1.2.0",
      "_model_name": "LayoutModel",
      "_view_count": null,
      "_view_module": "@jupyter-widgets/base",
      "_view_module_version": "1.2.0",
      "_view_name": "LayoutView",
      "align_content": null,
      "align_items": null,
      "align_self": null,
      "border": null,
      "bottom": null,
      "display": null,
      "flex": null,
      "flex_flow": null,
      "grid_area": null,
      "grid_auto_columns": null,
      "grid_auto_flow": null,
      "grid_auto_rows": null,
      "grid_column": null,
      "grid_gap": null,
      "grid_row": null,
      "grid_template_areas": null,
      "grid_template_columns": null,
      "grid_template_rows": null,
      "height": null,
      "justify_content": null,
      "justify_items": null,
      "left": null,
      "margin": null,
      "max_height": null,
      "max_width": null,
      "min_height": null,
      "min_width": null,
      "object_fit": null,
      "object_position": null,
      "order": null,
      "overflow": null,
      "overflow_x": null,
      "overflow_y": null,
      "padding": null,
      "right": null,
      "top": null,
      "visibility": null,
      "width": null
     }
    },
    "b855640802a3471d956ac7a1e65fd41b": {
     "model_module": "@jupyter-widgets/controls",
     "model_module_version": "1.5.0",
     "model_name": "FloatProgressModel",
     "state": {
      "_dom_classes": [],
      "_model_module": "@jupyter-widgets/controls",
      "_model_module_version": "1.5.0",
      "_model_name": "FloatProgressModel",
      "_view_count": null,
      "_view_module": "@jupyter-widgets/controls",
      "_view_module_version": "1.5.0",
      "_view_name": "ProgressView",
      "bar_style": "",
      "description": "",
      "description_tooltip": null,
      "layout": "IPY_MODEL_3671b06cdffb4940a2607ff910288443",
      "max": 24,
      "min": 0,
      "orientation": "horizontal",
      "style": "IPY_MODEL_0919a9450322412fb02d95d203aec004",
      "value": 24
     }
    },
    "da9a6417338d4a33ba62e154efe0fe1b": {
     "model_module": "@jupyter-widgets/base",
     "model_module_version": "1.2.0",
     "model_name": "LayoutModel",
     "state": {
      "_model_module": "@jupyter-widgets/base",
      "_model_module_version": "1.2.0",
      "_model_name": "LayoutModel",
      "_view_count": null,
      "_view_module": "@jupyter-widgets/base",
      "_view_module_version": "1.2.0",
      "_view_name": "LayoutView",
      "align_content": null,
      "align_items": null,
      "align_self": null,
      "border": null,
      "bottom": null,
      "display": null,
      "flex": null,
      "flex_flow": null,
      "grid_area": null,
      "grid_auto_columns": null,
      "grid_auto_flow": null,
      "grid_auto_rows": null,
      "grid_column": null,
      "grid_gap": null,
      "grid_row": null,
      "grid_template_areas": null,
      "grid_template_columns": null,
      "grid_template_rows": null,
      "height": null,
      "justify_content": null,
      "justify_items": null,
      "left": null,
      "margin": null,
      "max_height": null,
      "max_width": null,
      "min_height": null,
      "min_width": null,
      "object_fit": null,
      "object_position": null,
      "order": null,
      "overflow": null,
      "overflow_x": null,
      "overflow_y": null,
      "padding": null,
      "right": null,
      "top": null,
      "visibility": null,
      "width": null
     }
    },
    "db7257188ec84e86bb6781c2942477b1": {
     "model_module": "@jupyter-widgets/controls",
     "model_module_version": "1.5.0",
     "model_name": "HTMLModel",
     "state": {
      "_dom_classes": [],
      "_model_module": "@jupyter-widgets/controls",
      "_model_module_version": "1.5.0",
      "_model_name": "HTMLModel",
      "_view_count": null,
      "_view_module": "@jupyter-widgets/controls",
      "_view_module_version": "1.5.0",
      "_view_name": "HTMLView",
      "description": "",
      "description_tooltip": null,
      "layout": "IPY_MODEL_e38febcce27445cb853e358bc8cda4e3",
      "placeholder": "​",
      "style": "IPY_MODEL_65ab6c2e53a645ebbb59f94cc63218e5",
      "value": "params grid: 100%"
     }
    },
    "e3566ddf240843768685c25a261af07a": {
     "model_module": "@jupyter-widgets/controls",
     "model_module_version": "1.5.0",
     "model_name": "HTMLModel",
     "state": {
      "_dom_classes": [],
      "_model_module": "@jupyter-widgets/controls",
      "_model_module_version": "1.5.0",
      "_model_name": "HTMLModel",
      "_view_count": null,
      "_view_module": "@jupyter-widgets/controls",
      "_view_module_version": "1.5.0",
      "_view_name": "HTMLView",
      "description": "",
      "description_tooltip": null,
      "layout": "IPY_MODEL_879f6c8d69d54c968bace0955b6fc853",
      "placeholder": "​",
      "style": "IPY_MODEL_aac536ba81de41cd86b2fd21a730e439",
      "value": " 6/6 [00:19&lt;00:00,  3.58s/it]"
     }
    },
    "e38febcce27445cb853e358bc8cda4e3": {
     "model_module": "@jupyter-widgets/base",
     "model_module_version": "1.2.0",
     "model_name": "LayoutModel",
     "state": {
      "_model_module": "@jupyter-widgets/base",
      "_model_module_version": "1.2.0",
      "_model_name": "LayoutModel",
      "_view_count": null,
      "_view_module": "@jupyter-widgets/base",
      "_view_module_version": "1.2.0",
      "_view_name": "LayoutView",
      "align_content": null,
      "align_items": null,
      "align_self": null,
      "border": null,
      "bottom": null,
      "display": null,
      "flex": null,
      "flex_flow": null,
      "grid_area": null,
      "grid_auto_columns": null,
      "grid_auto_flow": null,
      "grid_auto_rows": null,
      "grid_column": null,
      "grid_gap": null,
      "grid_row": null,
      "grid_template_areas": null,
      "grid_template_columns": null,
      "grid_template_rows": null,
      "height": null,
      "justify_content": null,
      "justify_items": null,
      "left": null,
      "margin": null,
      "max_height": null,
      "max_width": null,
      "min_height": null,
      "min_width": null,
      "object_fit": null,
      "object_position": null,
      "order": null,
      "overflow": null,
      "overflow_x": null,
      "overflow_y": null,
      "padding": null,
      "right": null,
      "top": null,
      "visibility": null,
      "width": null
     }
    },
    "edd66bedda234207b22f2a2fb1b9c355": {
     "model_module": "@jupyter-widgets/base",
     "model_module_version": "1.2.0",
     "model_name": "LayoutModel",
     "state": {
      "_model_module": "@jupyter-widgets/base",
      "_model_module_version": "1.2.0",
      "_model_name": "LayoutModel",
      "_view_count": null,
      "_view_module": "@jupyter-widgets/base",
      "_view_module_version": "1.2.0",
      "_view_name": "LayoutView",
      "align_content": null,
      "align_items": null,
      "align_self": null,
      "border": null,
      "bottom": null,
      "display": null,
      "flex": null,
      "flex_flow": null,
      "grid_area": null,
      "grid_auto_columns": null,
      "grid_auto_flow": null,
      "grid_auto_rows": null,
      "grid_column": null,
      "grid_gap": null,
      "grid_row": null,
      "grid_template_areas": null,
      "grid_template_columns": null,
      "grid_template_rows": null,
      "height": null,
      "justify_content": null,
      "justify_items": null,
      "left": null,
      "margin": null,
      "max_height": null,
      "max_width": null,
      "min_height": null,
      "min_width": null,
      "object_fit": null,
      "object_position": null,
      "order": null,
      "overflow": null,
      "overflow_x": null,
      "overflow_y": null,
      "padding": null,
      "right": null,
      "top": null,
      "visibility": null,
      "width": null
     }
    },
    "f38cb1bde9494d89b8c4d6fb29d09994": {
     "model_module": "@jupyter-widgets/controls",
     "model_module_version": "1.5.0",
     "model_name": "HTMLModel",
     "state": {
      "_dom_classes": [],
      "_model_module": "@jupyter-widgets/controls",
      "_model_module_version": "1.5.0",
      "_model_name": "HTMLModel",
      "_view_count": null,
      "_view_module": "@jupyter-widgets/controls",
      "_view_module_version": "1.5.0",
      "_view_name": "HTMLView",
      "description": "",
      "description_tooltip": null,
      "layout": "IPY_MODEL_fdffa6631c3441289b036de555601bb6",
      "placeholder": "​",
      "style": "IPY_MODEL_2d22817a9b764d85877341ef3ce7f3be",
      "value": "lags grid: 100%"
     }
    },
    "f67d079d3e1a4511b3ee54c3b3b23e00": {
     "model_module": "@jupyter-widgets/controls",
     "model_module_version": "1.5.0",
     "model_name": "HBoxModel",
     "state": {
      "_dom_classes": [],
      "_model_module": "@jupyter-widgets/controls",
      "_model_module_version": "1.5.0",
      "_model_name": "HBoxModel",
      "_view_count": null,
      "_view_module": "@jupyter-widgets/controls",
      "_view_module_version": "1.5.0",
      "_view_name": "HBoxView",
      "box_style": "",
      "children": [
       "IPY_MODEL_30778273e570438492828446b525487c",
       "IPY_MODEL_b855640802a3471d956ac7a1e65fd41b",
       "IPY_MODEL_92ffce00a3534ed58e56ccaa6bfe65bb"
      ],
      "layout": "IPY_MODEL_a800b872e81c4b86959b5068a7c3c749"
     }
    },
    "fdffa6631c3441289b036de555601bb6": {
     "model_module": "@jupyter-widgets/base",
     "model_module_version": "1.2.0",
     "model_name": "LayoutModel",
     "state": {
      "_model_module": "@jupyter-widgets/base",
      "_model_module_version": "1.2.0",
      "_model_name": "LayoutModel",
      "_view_count": null,
      "_view_module": "@jupyter-widgets/base",
      "_view_module_version": "1.2.0",
      "_view_name": "LayoutView",
      "align_content": null,
      "align_items": null,
      "align_self": null,
      "border": null,
      "bottom": null,
      "display": null,
      "flex": null,
      "flex_flow": null,
      "grid_area": null,
      "grid_auto_columns": null,
      "grid_auto_flow": null,
      "grid_auto_rows": null,
      "grid_column": null,
      "grid_gap": null,
      "grid_row": null,
      "grid_template_areas": null,
      "grid_template_columns": null,
      "grid_template_rows": null,
      "height": null,
      "justify_content": null,
      "justify_items": null,
      "left": null,
      "margin": null,
      "max_height": null,
      "max_width": null,
      "min_height": null,
      "min_width": null,
      "object_fit": null,
      "object_position": null,
      "order": null,
      "overflow": null,
      "overflow_x": null,
      "overflow_y": null,
      "padding": null,
      "right": null,
      "top": null,
      "visibility": null,
      "width": null
     }
    }
   }
  }
 },
 "nbformat": 4,
 "nbformat_minor": 4
}
